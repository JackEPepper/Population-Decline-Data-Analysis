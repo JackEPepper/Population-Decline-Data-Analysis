{
 "cells": [
  {
   "attachments": {},
   "cell_type": "markdown",
   "metadata": {},
   "source": [
    "# Population Decline\n",
    "## An exploratory data analysis"
   ]
  },
  {
   "cell_type": "code",
   "execution_count": 450,
   "metadata": {},
   "outputs": [],
   "source": [
    "import pandas as pd\n",
    "import matplotlib.pyplot as plt\n",
    "from linearmodels import PanelOLS\n",
    "import statsmodels.api as sm\n",
    "import plotly.express as px\n",
    "import plotly.graph_objects as go"
   ]
  },
  {
   "attachments": {},
   "cell_type": "markdown",
   "metadata": {},
   "source": [
    "The population of the world has been going up quite rapidly for quite some time now, but this trend is beginning to slow down. In parts of the world, most recently China, population decline has become an issue of great concern. Using data from 1955 until 2020, in this analysis I will explore global population trends, and try to shed light on important factors in population growth and decline.\n",
    "\n",
    "## Graphical Analysis"
   ]
  },
  {
   "cell_type": "code",
   "execution_count": 451,
   "metadata": {},
   "outputs": [
    {
     "data": {
      "text/html": [
       "<div>\n",
       "<style scoped>\n",
       "    .dataframe tbody tr th:only-of-type {\n",
       "        vertical-align: middle;\n",
       "    }\n",
       "\n",
       "    .dataframe tbody tr th {\n",
       "        vertical-align: top;\n",
       "    }\n",
       "\n",
       "    .dataframe thead th {\n",
       "        text-align: right;\n",
       "    }\n",
       "</style>\n",
       "<table border=\"1\" class=\"dataframe\">\n",
       "  <thead>\n",
       "    <tr style=\"text-align: right;\">\n",
       "      <th></th>\n",
       "      <th>Continent</th>\n",
       "      <th>Country</th>\n",
       "      <th>Year</th>\n",
       "      <th>Population</th>\n",
       "      <th>Yearly%Change</th>\n",
       "      <th>YearlyChange</th>\n",
       "      <th>Migrants(net)</th>\n",
       "      <th>MedianAge</th>\n",
       "      <th>FertilityRate</th>\n",
       "      <th>UrbanPop%</th>\n",
       "      <th>UrbanPopulation</th>\n",
       "      <th>Migrants%</th>\n",
       "    </tr>\n",
       "  </thead>\n",
       "  <tbody>\n",
       "    <tr>\n",
       "      <th>0</th>\n",
       "      <td>Asia</td>\n",
       "      <td>Afghanistan</td>\n",
       "      <td>1955</td>\n",
       "      <td>8270991</td>\n",
       "      <td>1.30</td>\n",
       "      <td>103775</td>\n",
       "      <td>-4000</td>\n",
       "      <td>19.2</td>\n",
       "      <td>7.45</td>\n",
       "      <td>7.1</td>\n",
       "      <td>587818</td>\n",
       "      <td>-0.048362</td>\n",
       "    </tr>\n",
       "    <tr>\n",
       "      <th>1</th>\n",
       "      <td>Asia</td>\n",
       "      <td>Afghanistan</td>\n",
       "      <td>1960</td>\n",
       "      <td>8996973</td>\n",
       "      <td>1.70</td>\n",
       "      <td>145196</td>\n",
       "      <td>-4000</td>\n",
       "      <td>18.8</td>\n",
       "      <td>7.45</td>\n",
       "      <td>8.4</td>\n",
       "      <td>755797</td>\n",
       "      <td>-0.044459</td>\n",
       "    </tr>\n",
       "    <tr>\n",
       "      <th>2</th>\n",
       "      <td>Asia</td>\n",
       "      <td>Afghanistan</td>\n",
       "      <td>1965</td>\n",
       "      <td>9956320</td>\n",
       "      <td>2.05</td>\n",
       "      <td>191869</td>\n",
       "      <td>-4000</td>\n",
       "      <td>18.4</td>\n",
       "      <td>7.45</td>\n",
       "      <td>9.9</td>\n",
       "      <td>984350</td>\n",
       "      <td>-0.040175</td>\n",
       "    </tr>\n",
       "    <tr>\n",
       "      <th>3</th>\n",
       "      <td>Asia</td>\n",
       "      <td>Afghanistan</td>\n",
       "      <td>1970</td>\n",
       "      <td>11173642</td>\n",
       "      <td>2.33</td>\n",
       "      <td>243464</td>\n",
       "      <td>-4000</td>\n",
       "      <td>17.9</td>\n",
       "      <td>7.45</td>\n",
       "      <td>11.6</td>\n",
       "      <td>1295433</td>\n",
       "      <td>-0.035799</td>\n",
       "    </tr>\n",
       "    <tr>\n",
       "      <th>4</th>\n",
       "      <td>Asia</td>\n",
       "      <td>Afghanistan</td>\n",
       "      <td>1975</td>\n",
       "      <td>12689160</td>\n",
       "      <td>2.58</td>\n",
       "      <td>303104</td>\n",
       "      <td>-4000</td>\n",
       "      <td>17.3</td>\n",
       "      <td>7.45</td>\n",
       "      <td>13.5</td>\n",
       "      <td>1717422</td>\n",
       "      <td>-0.031523</td>\n",
       "    </tr>\n",
       "  </tbody>\n",
       "</table>\n",
       "</div>"
      ],
      "text/plain": [
       "  Continent      Country  Year  Population  Yearly%Change  YearlyChange  \\\n",
       "0      Asia  Afghanistan  1955     8270991           1.30        103775   \n",
       "1      Asia  Afghanistan  1960     8996973           1.70        145196   \n",
       "2      Asia  Afghanistan  1965     9956320           2.05        191869   \n",
       "3      Asia  Afghanistan  1970    11173642           2.33        243464   \n",
       "4      Asia  Afghanistan  1975    12689160           2.58        303104   \n",
       "\n",
       "   Migrants(net)  MedianAge  FertilityRate  UrbanPop%  UrbanPopulation  \\\n",
       "0          -4000       19.2           7.45        7.1           587818   \n",
       "1          -4000       18.8           7.45        8.4           755797   \n",
       "2          -4000       18.4           7.45        9.9           984350   \n",
       "3          -4000       17.9           7.45       11.6          1295433   \n",
       "4          -4000       17.3           7.45       13.5          1717422   \n",
       "\n",
       "   Migrants%  \n",
       "0  -0.048362  \n",
       "1  -0.044459  \n",
       "2  -0.040175  \n",
       "3  -0.035799  \n",
       "4  -0.031523  "
      ]
     },
     "execution_count": 451,
     "metadata": {},
     "output_type": "execute_result"
    }
   ],
   "source": [
    "path = \"population.csv\"\n",
    "df = pd.read_csv(path)\n",
    "df.drop(columns = [\"Unnamed: 0\", \"GlobalRank\", \"Country%OfWorldPop\"], inplace = True)\n",
    "df = df[df[\"Continent\"]!= \"North America\"]\n",
    "df[\"Migrants%\"] = (df['Migrants(net)'] / df['Population']) * 100\n",
    "df.head()"
   ]
  },
  {
   "cell_type": "code",
   "execution_count": 452,
   "metadata": {},
   "outputs": [
    {
     "data": {
      "application/vnd.plotly.v1+json": {
       "config": {
        "plotlyServerURL": "https://plot.ly"
       },
       "data": [
        {
         "hovertemplate": "Continent=Africa<br>Year=%{x}<br>Population=%{y}<extra></extra>",
         "legendgroup": "Africa",
         "line": {
          "color": "#636efa",
          "dash": "solid"
         },
         "marker": {
          "symbol": "circle"
         },
         "mode": "lines",
         "name": "Africa",
         "orientation": "v",
         "showlegend": true,
         "type": "scatter",
         "x": [
          1955,
          1960,
          1965,
          1970,
          1975,
          1980,
          1985,
          1990,
          1995,
          2000,
          2005,
          2010,
          2015,
          2016,
          2017,
          2018,
          2019,
          2020
         ],
         "xaxis": "x",
         "y": [
          252748903,
          283361209,
          320147257,
          363447518,
          414674688,
          476386273,
          548626148,
          630349639,
          717270078,
          810984226,
          916154288,
          1039304033,
          1182438784,
          1213040521,
          1244222267,
          1275920972,
          1308064195,
          1340598147
         ],
         "yaxis": "y"
        },
        {
         "hovertemplate": "Continent=Asia<br>Year=%{x}<br>Population=%{y}<extra></extra>",
         "legendgroup": "Asia",
         "line": {
          "color": "#EF553B",
          "dash": "solid"
         },
         "marker": {
          "symbol": "circle"
         },
         "mode": "lines",
         "name": "Asia",
         "orientation": "v",
         "showlegend": true,
         "type": "scatter",
         "x": [
          1955,
          1960,
          1965,
          1970,
          1975,
          1980,
          1985,
          1990,
          1995,
          2000,
          2005,
          2010,
          2015,
          2016,
          2017,
          2018,
          2019,
          2020
         ],
         "xaxis": "x",
         "y": [
          1549041895,
          1705041051,
          1894974284,
          2142480330,
          2401171440,
          2649578300,
          2921173176,
          3226098962,
          3493086983,
          3741263381,
          3977986502,
          4209593693,
          4433475358,
          4476607853,
          4519040027,
          4560667108,
          4601371198,
          4641054775
         ],
         "yaxis": "y"
        },
        {
         "hovertemplate": "Continent=Europe<br>Year=%{x}<br>Population=%{y}<extra></extra>",
         "legendgroup": "Europe",
         "line": {
          "color": "#00cc96",
          "dash": "solid"
         },
         "marker": {
          "symbol": "circle"
         },
         "mode": "lines",
         "name": "Europe",
         "orientation": "v",
         "showlegend": true,
         "type": "scatter",
         "x": [
          1955,
          1960,
          1965,
          1970,
          1975,
          1980,
          1985,
          1990,
          1995,
          2000,
          2005,
          2010,
          2015,
          2016,
          2017,
          2018,
          2019,
          2020
         ],
         "xaxis": "x",
         "y": [
          576678796,
          605406980,
          634783204,
          656919379,
          676895467,
          693566517,
          707584266,
          720858450,
          726994464,
          725558036,
          729287846,
          736412989,
          743059035,
          744268827,
          745414735,
          746419440,
          747182751,
          747636026
         ],
         "yaxis": "y"
        },
        {
         "hovertemplate": "Continent=Latin America and the Caribbean<br>Year=%{x}<br>Population=%{y}<extra></extra>",
         "legendgroup": "Latin America and the Caribbean",
         "line": {
          "color": "#ab63fa",
          "dash": "solid"
         },
         "marker": {
          "symbol": "circle"
         },
         "mode": "lines",
         "name": "Latin America and the Caribbean",
         "orientation": "v",
         "showlegend": true,
         "type": "scatter",
         "x": [
          1955,
          1960,
          1965,
          1970,
          1975,
          1980,
          1985,
          1990,
          1995,
          2000,
          2005,
          2010,
          2015,
          2016,
          2017,
          2018,
          2019,
          2020
         ],
         "xaxis": "x",
         "y": [
          192724974,
          220467394,
          252453574,
          286673362,
          322774579,
          361250123,
          402020289,
          442834722,
          483011898,
          521828877,
          557492479,
          591343154,
          623924475,
          630134807,
          636223339,
          642206866,
          648111110,
          653952454
         ],
         "yaxis": "y"
        },
        {
         "hovertemplate": "Continent=Northern America<br>Year=%{x}<br>Population=%{y}<extra></extra>",
         "legendgroup": "Northern America",
         "line": {
          "color": "#FFA15A",
          "dash": "solid"
         },
         "marker": {
          "symbol": "circle"
         },
         "mode": "lines",
         "name": "Northern America",
         "orientation": "v",
         "showlegend": true,
         "type": "scatter",
         "x": [
          1955,
          1960,
          1965,
          1970,
          1975,
          1980,
          1985,
          1990,
          1995,
          2000,
          2005,
          2010,
          2015,
          2016,
          2017,
          2018,
          2019,
          2020
         ],
         "xaxis": "x",
         "y": [
          187430408,
          204649165,
          219454181,
          230991858,
          242251508,
          254007123,
          266363451,
          279785259,
          294453542,
          312426773,
          327287151,
          343287419,
          357031048,
          359524647,
          361942268,
          364295996,
          366600964,
          368869647
         ],
         "yaxis": "y"
        },
        {
         "hovertemplate": "Continent=Oceania<br>Year=%{x}<br>Population=%{y}<extra></extra>",
         "legendgroup": "Oceania",
         "line": {
          "color": "#19d3f3",
          "dash": "solid"
         },
         "marker": {
          "symbol": "circle"
         },
         "mode": "lines",
         "name": "Oceania",
         "orientation": "v",
         "showlegend": true,
         "type": "scatter",
         "x": [
          1955,
          1960,
          1965,
          1970,
          1975,
          1980,
          1985,
          1990,
          1995,
          2000,
          2005,
          2010,
          2015,
          2016,
          2017,
          2018,
          2019,
          2020
         ],
         "xaxis": "x",
         "y": [
          14525949,
          16168376,
          17935139,
          20109036,
          21919359,
          23442659,
          25420682,
          27619158,
          29737050,
          31802476,
          34082365,
          37273749,
          40272796,
          40853244,
          41427945,
          41996329,
          42557706,
          43111704
         ],
         "yaxis": "y"
        }
       ],
       "layout": {
        "legend": {
         "title": {
          "text": "Continent"
         },
         "tracegroupgap": 0
        },
        "template": {
         "data": {
          "bar": [
           {
            "error_x": {
             "color": "#2a3f5f"
            },
            "error_y": {
             "color": "#2a3f5f"
            },
            "marker": {
             "line": {
              "color": "#E5ECF6",
              "width": 0.5
             },
             "pattern": {
              "fillmode": "overlay",
              "size": 10,
              "solidity": 0.2
             }
            },
            "type": "bar"
           }
          ],
          "barpolar": [
           {
            "marker": {
             "line": {
              "color": "#E5ECF6",
              "width": 0.5
             },
             "pattern": {
              "fillmode": "overlay",
              "size": 10,
              "solidity": 0.2
             }
            },
            "type": "barpolar"
           }
          ],
          "carpet": [
           {
            "aaxis": {
             "endlinecolor": "#2a3f5f",
             "gridcolor": "white",
             "linecolor": "white",
             "minorgridcolor": "white",
             "startlinecolor": "#2a3f5f"
            },
            "baxis": {
             "endlinecolor": "#2a3f5f",
             "gridcolor": "white",
             "linecolor": "white",
             "minorgridcolor": "white",
             "startlinecolor": "#2a3f5f"
            },
            "type": "carpet"
           }
          ],
          "choropleth": [
           {
            "colorbar": {
             "outlinewidth": 0,
             "ticks": ""
            },
            "type": "choropleth"
           }
          ],
          "contour": [
           {
            "colorbar": {
             "outlinewidth": 0,
             "ticks": ""
            },
            "colorscale": [
             [
              0,
              "#0d0887"
             ],
             [
              0.1111111111111111,
              "#46039f"
             ],
             [
              0.2222222222222222,
              "#7201a8"
             ],
             [
              0.3333333333333333,
              "#9c179e"
             ],
             [
              0.4444444444444444,
              "#bd3786"
             ],
             [
              0.5555555555555556,
              "#d8576b"
             ],
             [
              0.6666666666666666,
              "#ed7953"
             ],
             [
              0.7777777777777778,
              "#fb9f3a"
             ],
             [
              0.8888888888888888,
              "#fdca26"
             ],
             [
              1,
              "#f0f921"
             ]
            ],
            "type": "contour"
           }
          ],
          "contourcarpet": [
           {
            "colorbar": {
             "outlinewidth": 0,
             "ticks": ""
            },
            "type": "contourcarpet"
           }
          ],
          "heatmap": [
           {
            "colorbar": {
             "outlinewidth": 0,
             "ticks": ""
            },
            "colorscale": [
             [
              0,
              "#0d0887"
             ],
             [
              0.1111111111111111,
              "#46039f"
             ],
             [
              0.2222222222222222,
              "#7201a8"
             ],
             [
              0.3333333333333333,
              "#9c179e"
             ],
             [
              0.4444444444444444,
              "#bd3786"
             ],
             [
              0.5555555555555556,
              "#d8576b"
             ],
             [
              0.6666666666666666,
              "#ed7953"
             ],
             [
              0.7777777777777778,
              "#fb9f3a"
             ],
             [
              0.8888888888888888,
              "#fdca26"
             ],
             [
              1,
              "#f0f921"
             ]
            ],
            "type": "heatmap"
           }
          ],
          "heatmapgl": [
           {
            "colorbar": {
             "outlinewidth": 0,
             "ticks": ""
            },
            "colorscale": [
             [
              0,
              "#0d0887"
             ],
             [
              0.1111111111111111,
              "#46039f"
             ],
             [
              0.2222222222222222,
              "#7201a8"
             ],
             [
              0.3333333333333333,
              "#9c179e"
             ],
             [
              0.4444444444444444,
              "#bd3786"
             ],
             [
              0.5555555555555556,
              "#d8576b"
             ],
             [
              0.6666666666666666,
              "#ed7953"
             ],
             [
              0.7777777777777778,
              "#fb9f3a"
             ],
             [
              0.8888888888888888,
              "#fdca26"
             ],
             [
              1,
              "#f0f921"
             ]
            ],
            "type": "heatmapgl"
           }
          ],
          "histogram": [
           {
            "marker": {
             "pattern": {
              "fillmode": "overlay",
              "size": 10,
              "solidity": 0.2
             }
            },
            "type": "histogram"
           }
          ],
          "histogram2d": [
           {
            "colorbar": {
             "outlinewidth": 0,
             "ticks": ""
            },
            "colorscale": [
             [
              0,
              "#0d0887"
             ],
             [
              0.1111111111111111,
              "#46039f"
             ],
             [
              0.2222222222222222,
              "#7201a8"
             ],
             [
              0.3333333333333333,
              "#9c179e"
             ],
             [
              0.4444444444444444,
              "#bd3786"
             ],
             [
              0.5555555555555556,
              "#d8576b"
             ],
             [
              0.6666666666666666,
              "#ed7953"
             ],
             [
              0.7777777777777778,
              "#fb9f3a"
             ],
             [
              0.8888888888888888,
              "#fdca26"
             ],
             [
              1,
              "#f0f921"
             ]
            ],
            "type": "histogram2d"
           }
          ],
          "histogram2dcontour": [
           {
            "colorbar": {
             "outlinewidth": 0,
             "ticks": ""
            },
            "colorscale": [
             [
              0,
              "#0d0887"
             ],
             [
              0.1111111111111111,
              "#46039f"
             ],
             [
              0.2222222222222222,
              "#7201a8"
             ],
             [
              0.3333333333333333,
              "#9c179e"
             ],
             [
              0.4444444444444444,
              "#bd3786"
             ],
             [
              0.5555555555555556,
              "#d8576b"
             ],
             [
              0.6666666666666666,
              "#ed7953"
             ],
             [
              0.7777777777777778,
              "#fb9f3a"
             ],
             [
              0.8888888888888888,
              "#fdca26"
             ],
             [
              1,
              "#f0f921"
             ]
            ],
            "type": "histogram2dcontour"
           }
          ],
          "mesh3d": [
           {
            "colorbar": {
             "outlinewidth": 0,
             "ticks": ""
            },
            "type": "mesh3d"
           }
          ],
          "parcoords": [
           {
            "line": {
             "colorbar": {
              "outlinewidth": 0,
              "ticks": ""
             }
            },
            "type": "parcoords"
           }
          ],
          "pie": [
           {
            "automargin": true,
            "type": "pie"
           }
          ],
          "scatter": [
           {
            "fillpattern": {
             "fillmode": "overlay",
             "size": 10,
             "solidity": 0.2
            },
            "type": "scatter"
           }
          ],
          "scatter3d": [
           {
            "line": {
             "colorbar": {
              "outlinewidth": 0,
              "ticks": ""
             }
            },
            "marker": {
             "colorbar": {
              "outlinewidth": 0,
              "ticks": ""
             }
            },
            "type": "scatter3d"
           }
          ],
          "scattercarpet": [
           {
            "marker": {
             "colorbar": {
              "outlinewidth": 0,
              "ticks": ""
             }
            },
            "type": "scattercarpet"
           }
          ],
          "scattergeo": [
           {
            "marker": {
             "colorbar": {
              "outlinewidth": 0,
              "ticks": ""
             }
            },
            "type": "scattergeo"
           }
          ],
          "scattergl": [
           {
            "marker": {
             "colorbar": {
              "outlinewidth": 0,
              "ticks": ""
             }
            },
            "type": "scattergl"
           }
          ],
          "scattermapbox": [
           {
            "marker": {
             "colorbar": {
              "outlinewidth": 0,
              "ticks": ""
             }
            },
            "type": "scattermapbox"
           }
          ],
          "scatterpolar": [
           {
            "marker": {
             "colorbar": {
              "outlinewidth": 0,
              "ticks": ""
             }
            },
            "type": "scatterpolar"
           }
          ],
          "scatterpolargl": [
           {
            "marker": {
             "colorbar": {
              "outlinewidth": 0,
              "ticks": ""
             }
            },
            "type": "scatterpolargl"
           }
          ],
          "scatterternary": [
           {
            "marker": {
             "colorbar": {
              "outlinewidth": 0,
              "ticks": ""
             }
            },
            "type": "scatterternary"
           }
          ],
          "surface": [
           {
            "colorbar": {
             "outlinewidth": 0,
             "ticks": ""
            },
            "colorscale": [
             [
              0,
              "#0d0887"
             ],
             [
              0.1111111111111111,
              "#46039f"
             ],
             [
              0.2222222222222222,
              "#7201a8"
             ],
             [
              0.3333333333333333,
              "#9c179e"
             ],
             [
              0.4444444444444444,
              "#bd3786"
             ],
             [
              0.5555555555555556,
              "#d8576b"
             ],
             [
              0.6666666666666666,
              "#ed7953"
             ],
             [
              0.7777777777777778,
              "#fb9f3a"
             ],
             [
              0.8888888888888888,
              "#fdca26"
             ],
             [
              1,
              "#f0f921"
             ]
            ],
            "type": "surface"
           }
          ],
          "table": [
           {
            "cells": {
             "fill": {
              "color": "#EBF0F8"
             },
             "line": {
              "color": "white"
             }
            },
            "header": {
             "fill": {
              "color": "#C8D4E3"
             },
             "line": {
              "color": "white"
             }
            },
            "type": "table"
           }
          ]
         },
         "layout": {
          "annotationdefaults": {
           "arrowcolor": "#2a3f5f",
           "arrowhead": 0,
           "arrowwidth": 1
          },
          "autotypenumbers": "strict",
          "coloraxis": {
           "colorbar": {
            "outlinewidth": 0,
            "ticks": ""
           }
          },
          "colorscale": {
           "diverging": [
            [
             0,
             "#8e0152"
            ],
            [
             0.1,
             "#c51b7d"
            ],
            [
             0.2,
             "#de77ae"
            ],
            [
             0.3,
             "#f1b6da"
            ],
            [
             0.4,
             "#fde0ef"
            ],
            [
             0.5,
             "#f7f7f7"
            ],
            [
             0.6,
             "#e6f5d0"
            ],
            [
             0.7,
             "#b8e186"
            ],
            [
             0.8,
             "#7fbc41"
            ],
            [
             0.9,
             "#4d9221"
            ],
            [
             1,
             "#276419"
            ]
           ],
           "sequential": [
            [
             0,
             "#0d0887"
            ],
            [
             0.1111111111111111,
             "#46039f"
            ],
            [
             0.2222222222222222,
             "#7201a8"
            ],
            [
             0.3333333333333333,
             "#9c179e"
            ],
            [
             0.4444444444444444,
             "#bd3786"
            ],
            [
             0.5555555555555556,
             "#d8576b"
            ],
            [
             0.6666666666666666,
             "#ed7953"
            ],
            [
             0.7777777777777778,
             "#fb9f3a"
            ],
            [
             0.8888888888888888,
             "#fdca26"
            ],
            [
             1,
             "#f0f921"
            ]
           ],
           "sequentialminus": [
            [
             0,
             "#0d0887"
            ],
            [
             0.1111111111111111,
             "#46039f"
            ],
            [
             0.2222222222222222,
             "#7201a8"
            ],
            [
             0.3333333333333333,
             "#9c179e"
            ],
            [
             0.4444444444444444,
             "#bd3786"
            ],
            [
             0.5555555555555556,
             "#d8576b"
            ],
            [
             0.6666666666666666,
             "#ed7953"
            ],
            [
             0.7777777777777778,
             "#fb9f3a"
            ],
            [
             0.8888888888888888,
             "#fdca26"
            ],
            [
             1,
             "#f0f921"
            ]
           ]
          },
          "colorway": [
           "#636efa",
           "#EF553B",
           "#00cc96",
           "#ab63fa",
           "#FFA15A",
           "#19d3f3",
           "#FF6692",
           "#B6E880",
           "#FF97FF",
           "#FECB52"
          ],
          "font": {
           "color": "#2a3f5f"
          },
          "geo": {
           "bgcolor": "white",
           "lakecolor": "white",
           "landcolor": "#E5ECF6",
           "showlakes": true,
           "showland": true,
           "subunitcolor": "white"
          },
          "hoverlabel": {
           "align": "left"
          },
          "hovermode": "closest",
          "mapbox": {
           "style": "light"
          },
          "paper_bgcolor": "white",
          "plot_bgcolor": "#E5ECF6",
          "polar": {
           "angularaxis": {
            "gridcolor": "white",
            "linecolor": "white",
            "ticks": ""
           },
           "bgcolor": "#E5ECF6",
           "radialaxis": {
            "gridcolor": "white",
            "linecolor": "white",
            "ticks": ""
           }
          },
          "scene": {
           "xaxis": {
            "backgroundcolor": "#E5ECF6",
            "gridcolor": "white",
            "gridwidth": 2,
            "linecolor": "white",
            "showbackground": true,
            "ticks": "",
            "zerolinecolor": "white"
           },
           "yaxis": {
            "backgroundcolor": "#E5ECF6",
            "gridcolor": "white",
            "gridwidth": 2,
            "linecolor": "white",
            "showbackground": true,
            "ticks": "",
            "zerolinecolor": "white"
           },
           "zaxis": {
            "backgroundcolor": "#E5ECF6",
            "gridcolor": "white",
            "gridwidth": 2,
            "linecolor": "white",
            "showbackground": true,
            "ticks": "",
            "zerolinecolor": "white"
           }
          },
          "shapedefaults": {
           "line": {
            "color": "#2a3f5f"
           }
          },
          "ternary": {
           "aaxis": {
            "gridcolor": "white",
            "linecolor": "white",
            "ticks": ""
           },
           "baxis": {
            "gridcolor": "white",
            "linecolor": "white",
            "ticks": ""
           },
           "bgcolor": "#E5ECF6",
           "caxis": {
            "gridcolor": "white",
            "linecolor": "white",
            "ticks": ""
           }
          },
          "title": {
           "x": 0.05
          },
          "xaxis": {
           "automargin": true,
           "gridcolor": "white",
           "linecolor": "white",
           "ticks": "",
           "title": {
            "standoff": 15
           },
           "zerolinecolor": "white",
           "zerolinewidth": 2
          },
          "yaxis": {
           "automargin": true,
           "gridcolor": "white",
           "linecolor": "white",
           "ticks": "",
           "title": {
            "standoff": 15
           },
           "zerolinecolor": "white",
           "zerolinewidth": 2
          }
         }
        },
        "title": {
         "text": "World Population Over Time"
        },
        "xaxis": {
         "anchor": "y",
         "domain": [
          0,
          1
         ],
         "title": {
          "text": "Year"
         }
        },
        "yaxis": {
         "anchor": "x",
         "domain": [
          0,
          1
         ],
         "title": {
          "text": "Population"
         }
        }
       }
      }
     },
     "metadata": {},
     "output_type": "display_data"
    }
   ],
   "source": [
    "continentalpop = df.groupby([\"Continent\", \"Year\"])[\"Population\"].sum()\n",
    "fig = px.line(\n",
    "    data_frame= df,\n",
    "    x = continentalpop.index.get_level_values(level = 1),\n",
    "    y = continentalpop,\n",
    "    color = continentalpop.index.get_level_values(level = 0),\n",
    "    title= \"World Population Over Time\",\n",
    "    labels={'y': \"Population\", 'x':'Year','color':'Continent'},\n",
    "    log_y = False)\n",
    "fig.show()"
   ]
  },
  {
   "attachments": {},
   "cell_type": "markdown",
   "metadata": {},
   "source": [
    "This has been the population paradigm we're familliar with: steady, predictable growth largely carried by developing nations, with slower but still positive growth elsewhere. Looking more closely, however, we can see an impending problem."
   ]
  },
  {
   "cell_type": "code",
   "execution_count": 453,
   "metadata": {},
   "outputs": [
    {
     "data": {
      "application/vnd.plotly.v1+json": {
       "config": {
        "plotlyServerURL": "https://plot.ly"
       },
       "data": [
        {
         "alignmentgroup": "True",
         "box": {
          "visible": false
         },
         "hovertemplate": "Year=1955<br>Continent=%{x}<br>Yearly%Change=%{y}<extra></extra>",
         "legendgroup": "1955",
         "marker": {
          "color": "#636efa"
         },
         "name": "1955",
         "offsetgroup": "1955",
         "orientation": "v",
         "scalegroup": "True",
         "showlegend": true,
         "type": "violin",
         "x": [
          "Asia",
          "Europe",
          "Africa",
          "Oceania",
          "Europe",
          "Africa",
          "Latin America and the Caribbean",
          "Latin America and the Caribbean",
          "Latin America and the Caribbean",
          "Asia",
          "Latin America and the Caribbean",
          "Oceania",
          "Europe",
          "Asia",
          "Latin America and the Caribbean",
          "Asia",
          "Asia",
          "Latin America and the Caribbean",
          "Europe",
          "Europe",
          "Latin America and the Caribbean",
          "Africa",
          "Northern America",
          "Asia",
          "Latin America and the Caribbean",
          "Europe",
          "Africa",
          "Latin America and the Caribbean",
          "Latin America and the Caribbean",
          "Asia",
          "Europe",
          "Africa",
          "Africa",
          "Africa",
          "Asia",
          "Africa",
          "Northern America",
          "Latin America and the Caribbean",
          "Latin America and the Caribbean",
          "Africa",
          "Africa",
          "Europe",
          "Latin America and the Caribbean",
          "Asia",
          "Latin America and the Caribbean",
          "Africa",
          "Africa",
          "Oceania",
          "Latin America and the Caribbean",
          "Europe",
          "Latin America and the Caribbean",
          "Latin America and the Caribbean",
          "Asia",
          "Europe",
          "Africa",
          "Africa",
          "Europe",
          "Africa",
          "Latin America and the Caribbean",
          "Latin America and the Caribbean",
          "Latin America and the Caribbean",
          "Africa",
          "Latin America and the Caribbean",
          "Africa",
          "Africa",
          "Europe",
          "Africa",
          "Africa",
          "Europe",
          "Latin America and the Caribbean",
          "Oceania",
          "Europe",
          "Europe",
          "Latin America and the Caribbean",
          "Oceania",
          "Africa",
          "Africa",
          "Asia",
          "Europe",
          "Africa",
          "Europe",
          "Europe",
          "Northern America",
          "Latin America and the Caribbean",
          "Latin America and the Caribbean",
          "Oceania",
          "Latin America and the Caribbean",
          "Africa",
          "Africa",
          "Latin America and the Caribbean",
          "Latin America and the Caribbean",
          "Europe",
          "Latin America and the Caribbean",
          "Asia",
          "Europe",
          "Europe",
          "Asia",
          "Asia",
          "Asia",
          "Asia",
          "Europe",
          "Europe",
          "Asia",
          "Europe",
          "Latin America and the Caribbean",
          "Asia",
          "Asia",
          "Asia",
          "Africa",
          "Oceania",
          "Asia",
          "Asia",
          "Asia",
          "Europe",
          "Asia",
          "Africa",
          "Africa",
          "Africa",
          "Europe",
          "Europe",
          "Europe",
          "Asia",
          "Africa",
          "Africa",
          "Asia",
          "Asia",
          "Africa",
          "Europe",
          "Oceania",
          "Latin America and the Caribbean",
          "Africa",
          "Africa",
          "Africa",
          "Latin America and the Caribbean",
          "Oceania",
          "Europe",
          "Europe",
          "Asia",
          "Europe",
          "Latin America and the Caribbean",
          "Africa",
          "Africa",
          "Asia",
          "Africa",
          "Oceania",
          "Asia",
          "Europe",
          "Oceania",
          "Oceania",
          "Latin America and the Caribbean",
          "Africa",
          "Africa",
          "Oceania",
          "Asia",
          "Europe",
          "Oceania",
          "Europe",
          "Asia",
          "Asia",
          "Oceania",
          "Latin America and the Caribbean",
          "Oceania",
          "Latin America and the Caribbean",
          "Latin America and the Caribbean",
          "Asia",
          "Europe",
          "Europe",
          "Latin America and the Caribbean",
          "Asia",
          "Europe",
          "Europe",
          "Africa",
          "Africa",
          "Africa",
          "Latin America and the Caribbean",
          "Latin America and the Caribbean",
          "Latin America and the Caribbean",
          "Northern America",
          "Oceania",
          "Europe",
          "Africa",
          "Asia",
          "Africa",
          "Europe",
          "Africa",
          "Africa",
          "Asia",
          "Latin America and the Caribbean",
          "Europe",
          "Europe",
          "Oceania",
          "Africa",
          "Africa",
          "Asia",
          "Africa",
          "Europe",
          "Asia",
          "Latin America and the Caribbean",
          "Asia",
          "Africa",
          "Latin America and the Caribbean",
          "Europe",
          "Europe",
          "Asia",
          "Asia",
          "Asia",
          "Africa",
          "Asia",
          "Asia",
          "Africa",
          "Oceania",
          "Oceania",
          "Latin America and the Caribbean",
          "Africa",
          "Asia",
          "Asia",
          "Latin America and the Caribbean",
          "Oceania",
          "Latin America and the Caribbean",
          "Africa",
          "Europe",
          "Asia",
          "Europe",
          "Northern America",
          "Latin America and the Caribbean",
          "Asia",
          "Oceania",
          "Latin America and the Caribbean",
          "Asia",
          "Oceania",
          "Africa",
          "Asia",
          "Africa",
          "Africa"
         ],
         "x0": " ",
         "xaxis": "x",
         "y": [
          1.3,
          2.37,
          1.96,
          0.85,
          8.3,
          2.09,
          2.47,
          1.75,
          1.98,
          2.93,
          2.81,
          2.31,
          0.05,
          2.6,
          2.3,
          2.93,
          2.12,
          1.49,
          0.01,
          0.57,
          2.99,
          0.43,
          1.79,
          2.23,
          1.57,
          1.99,
          2.35,
          2.99,
          0.63,
          5.71,
          0.84,
          1.06,
          1.9,
          2.06,
          2.62,
          1.79,
          2.68,
          1.49,
          0.8,
          1.1,
          1.8,
          0.65,
          2.1,
          2,
          2.83,
          1.98,
          1.95,
          1.63,
          3.26,
          0.92,
          2.01,
          3.14,
          1.42,
          1.01,
          2.7,
          2.1,
          0.8,
          2.34,
          1.32,
          3.3,
          2.66,
          2.57,
          2.03,
          1.24,
          1.82,
          1.04,
          2.11,
          1.93,
          0.61,
          -0.49,
          3.01,
          1.12,
          0.74,
          2.26,
          2.7,
          0.46,
          1.57,
          1.03,
          0.45,
          2.62,
          0.67,
          0.88,
          2.36,
          1.13,
          2.37,
          0.98,
          3.08,
          1.4,
          1.48,
          3.49,
          1.76,
          0,
          2.75,
          4.61,
          1.03,
          2.02,
          1.72,
          2.13,
          2.42,
          2.6,
          -0.27,
          -1.05,
          6.11,
          0.73,
          1.89,
          1.46,
          7.25,
          3.43,
          2.83,
          2.05,
          3.51,
          1.82,
          2.36,
          0.77,
          2.8,
          1.7,
          1.69,
          2.06,
          1.51,
          0.47,
          0.62,
          -0.73,
          2.16,
          2.06,
          2.87,
          1.58,
          1.11,
          0.1,
          1.34,
          2.05,
          2.53,
          2.96,
          4.63,
          2.97,
          1.92,
          2.33,
          -0.34,
          1.85,
          2.37,
          1.03,
          3.17,
          1.78,
          1.92,
          2,
          2.21,
          1.89,
          1.3,
          0.89,
          2.29,
          3.09,
          2.92,
          1.65,
          0.12,
          -0.89,
          2.11,
          2.67,
          0.99,
          1.67,
          1.52,
          2.26,
          2.68,
          0.83,
          2.58,
          2.64,
          3.6,
          1.9,
          0.49,
          -0.2,
          7.48,
          1.49,
          1.61,
          2.94,
          3.29,
          0.37,
          1.04,
          0.88,
          2.56,
          0.79,
          2.78,
          1.53,
          -0.4,
          2.65,
          2.46,
          1.45,
          1.41,
          1.19,
          5.01,
          7.06,
          2.11,
          0.72,
          2.58,
          1.93,
          2.22,
          2.29,
          1.08,
          0.69,
          1.95,
          1.88,
          1.17,
          2.7,
          2.98,
          0.71,
          1.21,
          2.76,
          3.87,
          3.22,
          2.68,
          2.74,
          1.15,
          1.1,
          0.52,
          3.22,
          2.76,
          1.81,
          2.54,
          2.42,
          0.73,
          1.64,
          2.07,
          2.68,
          1.42,
          2.72,
          0.18,
          1.57,
          1.17,
          3.04,
          2.86,
          4.23,
          2.56,
          1.84,
          8.97,
          1.27,
          2.74,
          3.19
         ],
         "y0": " ",
         "yaxis": "y"
        },
        {
         "alignmentgroup": "True",
         "box": {
          "visible": false
         },
         "hovertemplate": "Year=2020<br>Continent=%{x}<br>Yearly%Change=%{y}<extra></extra>",
         "legendgroup": "2020",
         "marker": {
          "color": "#EF553B"
         },
         "name": "2020",
         "offsetgroup": "2020",
         "orientation": "v",
         "scalegroup": "True",
         "showlegend": true,
         "type": "violin",
         "x": [
          "Asia",
          "Europe",
          "Africa",
          "Oceania",
          "Europe",
          "Africa",
          "Latin America and the Caribbean",
          "Latin America and the Caribbean",
          "Latin America and the Caribbean",
          "Asia",
          "Latin America and the Caribbean",
          "Oceania",
          "Europe",
          "Asia",
          "Latin America and the Caribbean",
          "Asia",
          "Asia",
          "Latin America and the Caribbean",
          "Europe",
          "Europe",
          "Latin America and the Caribbean",
          "Africa",
          "Northern America",
          "Asia",
          "Latin America and the Caribbean",
          "Europe",
          "Africa",
          "Latin America and the Caribbean",
          "Latin America and the Caribbean",
          "Asia",
          "Europe",
          "Africa",
          "Africa",
          "Africa",
          "Asia",
          "Africa",
          "Northern America",
          "Latin America and the Caribbean",
          "Latin America and the Caribbean",
          "Africa",
          "Africa",
          "Europe",
          "Latin America and the Caribbean",
          "Asia",
          "Latin America and the Caribbean",
          "Africa",
          "Africa",
          "Oceania",
          "Latin America and the Caribbean",
          "Europe",
          "Latin America and the Caribbean",
          "Latin America and the Caribbean",
          "Asia",
          "Europe",
          "Africa",
          "Africa",
          "Europe",
          "Africa",
          "Latin America and the Caribbean",
          "Latin America and the Caribbean",
          "Latin America and the Caribbean",
          "Africa",
          "Latin America and the Caribbean",
          "Africa",
          "Africa",
          "Europe",
          "Africa",
          "Africa",
          "Europe",
          "Latin America and the Caribbean",
          "Oceania",
          "Europe",
          "Europe",
          "Latin America and the Caribbean",
          "Oceania",
          "Africa",
          "Africa",
          "Asia",
          "Europe",
          "Africa",
          "Europe",
          "Europe",
          "Northern America",
          "Latin America and the Caribbean",
          "Latin America and the Caribbean",
          "Oceania",
          "Latin America and the Caribbean",
          "Africa",
          "Africa",
          "Latin America and the Caribbean",
          "Latin America and the Caribbean",
          "Europe",
          "Latin America and the Caribbean",
          "Asia",
          "Europe",
          "Europe",
          "Asia",
          "Asia",
          "Asia",
          "Asia",
          "Europe",
          "Europe",
          "Asia",
          "Europe",
          "Latin America and the Caribbean",
          "Asia",
          "Asia",
          "Asia",
          "Africa",
          "Oceania",
          "Asia",
          "Asia",
          "Asia",
          "Europe",
          "Asia",
          "Africa",
          "Africa",
          "Africa",
          "Europe",
          "Europe",
          "Europe",
          "Asia",
          "Africa",
          "Africa",
          "Asia",
          "Asia",
          "Africa",
          "Europe",
          "Oceania",
          "Latin America and the Caribbean",
          "Africa",
          "Africa",
          "Africa",
          "Latin America and the Caribbean",
          "Oceania",
          "Europe",
          "Europe",
          "Asia",
          "Europe",
          "Latin America and the Caribbean",
          "Africa",
          "Africa",
          "Asia",
          "Africa",
          "Oceania",
          "Asia",
          "Europe",
          "Oceania",
          "Oceania",
          "Latin America and the Caribbean",
          "Africa",
          "Africa",
          "Oceania",
          "Asia",
          "Europe",
          "Oceania",
          "Europe",
          "Asia",
          "Asia",
          "Oceania",
          "Latin America and the Caribbean",
          "Oceania",
          "Latin America and the Caribbean",
          "Latin America and the Caribbean",
          "Asia",
          "Europe",
          "Europe",
          "Latin America and the Caribbean",
          "Asia",
          "Europe",
          "Europe",
          "Africa",
          "Africa",
          "Africa",
          "Latin America and the Caribbean",
          "Latin America and the Caribbean",
          "Latin America and the Caribbean",
          "Northern America",
          "Oceania",
          "Europe",
          "Africa",
          "Asia",
          "Africa",
          "Europe",
          "Africa",
          "Africa",
          "Asia",
          "Latin America and the Caribbean",
          "Europe",
          "Europe",
          "Oceania",
          "Africa",
          "Africa",
          "Asia",
          "Africa",
          "Europe",
          "Asia",
          "Latin America and the Caribbean",
          "Asia",
          "Africa",
          "Latin America and the Caribbean",
          "Europe",
          "Europe",
          "Asia",
          "Asia",
          "Asia",
          "Africa",
          "Asia",
          "Asia",
          "Africa",
          "Oceania",
          "Oceania",
          "Latin America and the Caribbean",
          "Africa",
          "Asia",
          "Asia",
          "Latin America and the Caribbean",
          "Oceania",
          "Latin America and the Caribbean",
          "Africa",
          "Europe",
          "Asia",
          "Europe",
          "Northern America",
          "Latin America and the Caribbean",
          "Asia",
          "Oceania",
          "Latin America and the Caribbean",
          "Asia",
          "Oceania",
          "Africa",
          "Asia",
          "Africa",
          "Africa"
         ],
         "x0": " ",
         "xaxis": "x",
         "y": [
          2.33,
          -0.11,
          1.85,
          -0.22,
          -0.19,
          3.27,
          0.99,
          0.84,
          0.93,
          0.19,
          0.43,
          1.18,
          0.57,
          0.91,
          0.97,
          3.68,
          1.01,
          0.12,
          -0.03,
          0.44,
          1.86,
          2.73,
          -0.45,
          1.12,
          1.39,
          -0.61,
          2.08,
          0.72,
          0.73,
          0.97,
          -0.74,
          2.86,
          3.12,
          1.1,
          1.41,
          2.59,
          0.89,
          1.31,
          1.26,
          1.78,
          3,
          0.93,
          0.87,
          0.39,
          1.08,
          2.2,
          2.56,
          -0.03,
          0.92,
          -0.61,
          -0.06,
          0.41,
          0.73,
          0.18,
          2.57,
          3.19,
          0.35,
          1.48,
          0.22,
          1.01,
          1.55,
          1.94,
          0.51,
          3.47,
          1.41,
          0.07,
          1.05,
          2.57,
          0.34,
          4.19,
          0.73,
          0.15,
          0.22,
          2.7,
          0.58,
          2.45,
          2.94,
          -0.19,
          0.32,
          2.15,
          -0.03,
          -0.48,
          0.14,
          0.46,
          0.02,
          0.89,
          1.9,
          2.83,
          2.45,
          0.48,
          1.24,
          -0.05,
          1.63,
          0.82,
          -0.25,
          0.65,
          0.99,
          1.07,
          1.3,
          2.32,
          1.13,
          0.43,
          1.6,
          -0.15,
          0.44,
          -0.3,
          1,
          1.21,
          2.28,
          1.57,
          1.51,
          1.69,
          1.48,
          -1.08,
          -0.44,
          0.8,
          2.44,
          1.38,
          0.35,
          -1.35,
          1.66,
          1.39,
          2.68,
          2.69,
          1.3,
          1.81,
          3.02,
          0.27,
          0.6,
          -0.08,
          2.74,
          0.17,
          2.5,
          1.06,
          1,
          -0.23,
          0.8,
          1.65,
          0.01,
          0.1,
          1.2,
          2.93,
          0.67,
          1.86,
          0.84,
          1.85,
          0.22,
          0.97,
          0.82,
          1.21,
          3.84,
          2.58,
          0.09,
          0.44,
          0,
          0.63,
          0.79,
          2.65,
          2,
          0.48,
          1.61,
          1.95,
          1.25,
          1.42,
          1.35,
          -0.11,
          -0.29,
          -2.47,
          1.73,
          -0.66,
          0.04,
          2.58,
          0.72,
          0.71,
          0.77,
          0.46,
          1.52,
          -0.67,
          0.67,
          0.39,
          1.91,
          1.59,
          2.75,
          -0.4,
          0.62,
          2.1,
          0.79,
          1.41,
          0.05,
          0.01,
          2.55,
          2.92,
          1.28,
          0.09,
          1.19,
          0.04,
          0.42,
          0.32,
          2.41,
          2.42,
          0.9,
          0.63,
          0.74,
          2.52,
          0.18,
          2.32,
          2.98,
          0.25,
          1.96,
          2.43,
          1.62,
          1.15,
          0.32,
          1.06,
          1.09,
          1.5,
          1.48,
          1.22,
          -0.15,
          3.32,
          -0.59,
          1.23,
          0.53,
          0.59,
          0.35,
          1.48,
          2.42,
          -0.28,
          0.91,
          -1.73,
          2.55,
          2.28,
          2.93,
          1.48
         ],
         "y0": " ",
         "yaxis": "y"
        }
       ],
       "layout": {
        "legend": {
         "title": {
          "text": "Year"
         },
         "tracegroupgap": 0
        },
        "margin": {
         "t": 60
        },
        "template": {
         "data": {
          "bar": [
           {
            "error_x": {
             "color": "#2a3f5f"
            },
            "error_y": {
             "color": "#2a3f5f"
            },
            "marker": {
             "line": {
              "color": "#E5ECF6",
              "width": 0.5
             },
             "pattern": {
              "fillmode": "overlay",
              "size": 10,
              "solidity": 0.2
             }
            },
            "type": "bar"
           }
          ],
          "barpolar": [
           {
            "marker": {
             "line": {
              "color": "#E5ECF6",
              "width": 0.5
             },
             "pattern": {
              "fillmode": "overlay",
              "size": 10,
              "solidity": 0.2
             }
            },
            "type": "barpolar"
           }
          ],
          "carpet": [
           {
            "aaxis": {
             "endlinecolor": "#2a3f5f",
             "gridcolor": "white",
             "linecolor": "white",
             "minorgridcolor": "white",
             "startlinecolor": "#2a3f5f"
            },
            "baxis": {
             "endlinecolor": "#2a3f5f",
             "gridcolor": "white",
             "linecolor": "white",
             "minorgridcolor": "white",
             "startlinecolor": "#2a3f5f"
            },
            "type": "carpet"
           }
          ],
          "choropleth": [
           {
            "colorbar": {
             "outlinewidth": 0,
             "ticks": ""
            },
            "type": "choropleth"
           }
          ],
          "contour": [
           {
            "colorbar": {
             "outlinewidth": 0,
             "ticks": ""
            },
            "colorscale": [
             [
              0,
              "#0d0887"
             ],
             [
              0.1111111111111111,
              "#46039f"
             ],
             [
              0.2222222222222222,
              "#7201a8"
             ],
             [
              0.3333333333333333,
              "#9c179e"
             ],
             [
              0.4444444444444444,
              "#bd3786"
             ],
             [
              0.5555555555555556,
              "#d8576b"
             ],
             [
              0.6666666666666666,
              "#ed7953"
             ],
             [
              0.7777777777777778,
              "#fb9f3a"
             ],
             [
              0.8888888888888888,
              "#fdca26"
             ],
             [
              1,
              "#f0f921"
             ]
            ],
            "type": "contour"
           }
          ],
          "contourcarpet": [
           {
            "colorbar": {
             "outlinewidth": 0,
             "ticks": ""
            },
            "type": "contourcarpet"
           }
          ],
          "heatmap": [
           {
            "colorbar": {
             "outlinewidth": 0,
             "ticks": ""
            },
            "colorscale": [
             [
              0,
              "#0d0887"
             ],
             [
              0.1111111111111111,
              "#46039f"
             ],
             [
              0.2222222222222222,
              "#7201a8"
             ],
             [
              0.3333333333333333,
              "#9c179e"
             ],
             [
              0.4444444444444444,
              "#bd3786"
             ],
             [
              0.5555555555555556,
              "#d8576b"
             ],
             [
              0.6666666666666666,
              "#ed7953"
             ],
             [
              0.7777777777777778,
              "#fb9f3a"
             ],
             [
              0.8888888888888888,
              "#fdca26"
             ],
             [
              1,
              "#f0f921"
             ]
            ],
            "type": "heatmap"
           }
          ],
          "heatmapgl": [
           {
            "colorbar": {
             "outlinewidth": 0,
             "ticks": ""
            },
            "colorscale": [
             [
              0,
              "#0d0887"
             ],
             [
              0.1111111111111111,
              "#46039f"
             ],
             [
              0.2222222222222222,
              "#7201a8"
             ],
             [
              0.3333333333333333,
              "#9c179e"
             ],
             [
              0.4444444444444444,
              "#bd3786"
             ],
             [
              0.5555555555555556,
              "#d8576b"
             ],
             [
              0.6666666666666666,
              "#ed7953"
             ],
             [
              0.7777777777777778,
              "#fb9f3a"
             ],
             [
              0.8888888888888888,
              "#fdca26"
             ],
             [
              1,
              "#f0f921"
             ]
            ],
            "type": "heatmapgl"
           }
          ],
          "histogram": [
           {
            "marker": {
             "pattern": {
              "fillmode": "overlay",
              "size": 10,
              "solidity": 0.2
             }
            },
            "type": "histogram"
           }
          ],
          "histogram2d": [
           {
            "colorbar": {
             "outlinewidth": 0,
             "ticks": ""
            },
            "colorscale": [
             [
              0,
              "#0d0887"
             ],
             [
              0.1111111111111111,
              "#46039f"
             ],
             [
              0.2222222222222222,
              "#7201a8"
             ],
             [
              0.3333333333333333,
              "#9c179e"
             ],
             [
              0.4444444444444444,
              "#bd3786"
             ],
             [
              0.5555555555555556,
              "#d8576b"
             ],
             [
              0.6666666666666666,
              "#ed7953"
             ],
             [
              0.7777777777777778,
              "#fb9f3a"
             ],
             [
              0.8888888888888888,
              "#fdca26"
             ],
             [
              1,
              "#f0f921"
             ]
            ],
            "type": "histogram2d"
           }
          ],
          "histogram2dcontour": [
           {
            "colorbar": {
             "outlinewidth": 0,
             "ticks": ""
            },
            "colorscale": [
             [
              0,
              "#0d0887"
             ],
             [
              0.1111111111111111,
              "#46039f"
             ],
             [
              0.2222222222222222,
              "#7201a8"
             ],
             [
              0.3333333333333333,
              "#9c179e"
             ],
             [
              0.4444444444444444,
              "#bd3786"
             ],
             [
              0.5555555555555556,
              "#d8576b"
             ],
             [
              0.6666666666666666,
              "#ed7953"
             ],
             [
              0.7777777777777778,
              "#fb9f3a"
             ],
             [
              0.8888888888888888,
              "#fdca26"
             ],
             [
              1,
              "#f0f921"
             ]
            ],
            "type": "histogram2dcontour"
           }
          ],
          "mesh3d": [
           {
            "colorbar": {
             "outlinewidth": 0,
             "ticks": ""
            },
            "type": "mesh3d"
           }
          ],
          "parcoords": [
           {
            "line": {
             "colorbar": {
              "outlinewidth": 0,
              "ticks": ""
             }
            },
            "type": "parcoords"
           }
          ],
          "pie": [
           {
            "automargin": true,
            "type": "pie"
           }
          ],
          "scatter": [
           {
            "fillpattern": {
             "fillmode": "overlay",
             "size": 10,
             "solidity": 0.2
            },
            "type": "scatter"
           }
          ],
          "scatter3d": [
           {
            "line": {
             "colorbar": {
              "outlinewidth": 0,
              "ticks": ""
             }
            },
            "marker": {
             "colorbar": {
              "outlinewidth": 0,
              "ticks": ""
             }
            },
            "type": "scatter3d"
           }
          ],
          "scattercarpet": [
           {
            "marker": {
             "colorbar": {
              "outlinewidth": 0,
              "ticks": ""
             }
            },
            "type": "scattercarpet"
           }
          ],
          "scattergeo": [
           {
            "marker": {
             "colorbar": {
              "outlinewidth": 0,
              "ticks": ""
             }
            },
            "type": "scattergeo"
           }
          ],
          "scattergl": [
           {
            "marker": {
             "colorbar": {
              "outlinewidth": 0,
              "ticks": ""
             }
            },
            "type": "scattergl"
           }
          ],
          "scattermapbox": [
           {
            "marker": {
             "colorbar": {
              "outlinewidth": 0,
              "ticks": ""
             }
            },
            "type": "scattermapbox"
           }
          ],
          "scatterpolar": [
           {
            "marker": {
             "colorbar": {
              "outlinewidth": 0,
              "ticks": ""
             }
            },
            "type": "scatterpolar"
           }
          ],
          "scatterpolargl": [
           {
            "marker": {
             "colorbar": {
              "outlinewidth": 0,
              "ticks": ""
             }
            },
            "type": "scatterpolargl"
           }
          ],
          "scatterternary": [
           {
            "marker": {
             "colorbar": {
              "outlinewidth": 0,
              "ticks": ""
             }
            },
            "type": "scatterternary"
           }
          ],
          "surface": [
           {
            "colorbar": {
             "outlinewidth": 0,
             "ticks": ""
            },
            "colorscale": [
             [
              0,
              "#0d0887"
             ],
             [
              0.1111111111111111,
              "#46039f"
             ],
             [
              0.2222222222222222,
              "#7201a8"
             ],
             [
              0.3333333333333333,
              "#9c179e"
             ],
             [
              0.4444444444444444,
              "#bd3786"
             ],
             [
              0.5555555555555556,
              "#d8576b"
             ],
             [
              0.6666666666666666,
              "#ed7953"
             ],
             [
              0.7777777777777778,
              "#fb9f3a"
             ],
             [
              0.8888888888888888,
              "#fdca26"
             ],
             [
              1,
              "#f0f921"
             ]
            ],
            "type": "surface"
           }
          ],
          "table": [
           {
            "cells": {
             "fill": {
              "color": "#EBF0F8"
             },
             "line": {
              "color": "white"
             }
            },
            "header": {
             "fill": {
              "color": "#C8D4E3"
             },
             "line": {
              "color": "white"
             }
            },
            "type": "table"
           }
          ]
         },
         "layout": {
          "annotationdefaults": {
           "arrowcolor": "#2a3f5f",
           "arrowhead": 0,
           "arrowwidth": 1
          },
          "autotypenumbers": "strict",
          "coloraxis": {
           "colorbar": {
            "outlinewidth": 0,
            "ticks": ""
           }
          },
          "colorscale": {
           "diverging": [
            [
             0,
             "#8e0152"
            ],
            [
             0.1,
             "#c51b7d"
            ],
            [
             0.2,
             "#de77ae"
            ],
            [
             0.3,
             "#f1b6da"
            ],
            [
             0.4,
             "#fde0ef"
            ],
            [
             0.5,
             "#f7f7f7"
            ],
            [
             0.6,
             "#e6f5d0"
            ],
            [
             0.7,
             "#b8e186"
            ],
            [
             0.8,
             "#7fbc41"
            ],
            [
             0.9,
             "#4d9221"
            ],
            [
             1,
             "#276419"
            ]
           ],
           "sequential": [
            [
             0,
             "#0d0887"
            ],
            [
             0.1111111111111111,
             "#46039f"
            ],
            [
             0.2222222222222222,
             "#7201a8"
            ],
            [
             0.3333333333333333,
             "#9c179e"
            ],
            [
             0.4444444444444444,
             "#bd3786"
            ],
            [
             0.5555555555555556,
             "#d8576b"
            ],
            [
             0.6666666666666666,
             "#ed7953"
            ],
            [
             0.7777777777777778,
             "#fb9f3a"
            ],
            [
             0.8888888888888888,
             "#fdca26"
            ],
            [
             1,
             "#f0f921"
            ]
           ],
           "sequentialminus": [
            [
             0,
             "#0d0887"
            ],
            [
             0.1111111111111111,
             "#46039f"
            ],
            [
             0.2222222222222222,
             "#7201a8"
            ],
            [
             0.3333333333333333,
             "#9c179e"
            ],
            [
             0.4444444444444444,
             "#bd3786"
            ],
            [
             0.5555555555555556,
             "#d8576b"
            ],
            [
             0.6666666666666666,
             "#ed7953"
            ],
            [
             0.7777777777777778,
             "#fb9f3a"
            ],
            [
             0.8888888888888888,
             "#fdca26"
            ],
            [
             1,
             "#f0f921"
            ]
           ]
          },
          "colorway": [
           "#636efa",
           "#EF553B",
           "#00cc96",
           "#ab63fa",
           "#FFA15A",
           "#19d3f3",
           "#FF6692",
           "#B6E880",
           "#FF97FF",
           "#FECB52"
          ],
          "font": {
           "color": "#2a3f5f"
          },
          "geo": {
           "bgcolor": "white",
           "lakecolor": "white",
           "landcolor": "#E5ECF6",
           "showlakes": true,
           "showland": true,
           "subunitcolor": "white"
          },
          "hoverlabel": {
           "align": "left"
          },
          "hovermode": "closest",
          "mapbox": {
           "style": "light"
          },
          "paper_bgcolor": "white",
          "plot_bgcolor": "#E5ECF6",
          "polar": {
           "angularaxis": {
            "gridcolor": "white",
            "linecolor": "white",
            "ticks": ""
           },
           "bgcolor": "#E5ECF6",
           "radialaxis": {
            "gridcolor": "white",
            "linecolor": "white",
            "ticks": ""
           }
          },
          "scene": {
           "xaxis": {
            "backgroundcolor": "#E5ECF6",
            "gridcolor": "white",
            "gridwidth": 2,
            "linecolor": "white",
            "showbackground": true,
            "ticks": "",
            "zerolinecolor": "white"
           },
           "yaxis": {
            "backgroundcolor": "#E5ECF6",
            "gridcolor": "white",
            "gridwidth": 2,
            "linecolor": "white",
            "showbackground": true,
            "ticks": "",
            "zerolinecolor": "white"
           },
           "zaxis": {
            "backgroundcolor": "#E5ECF6",
            "gridcolor": "white",
            "gridwidth": 2,
            "linecolor": "white",
            "showbackground": true,
            "ticks": "",
            "zerolinecolor": "white"
           }
          },
          "shapedefaults": {
           "line": {
            "color": "#2a3f5f"
           }
          },
          "ternary": {
           "aaxis": {
            "gridcolor": "white",
            "linecolor": "white",
            "ticks": ""
           },
           "baxis": {
            "gridcolor": "white",
            "linecolor": "white",
            "ticks": ""
           },
           "bgcolor": "#E5ECF6",
           "caxis": {
            "gridcolor": "white",
            "linecolor": "white",
            "ticks": ""
           }
          },
          "title": {
           "x": 0.05
          },
          "xaxis": {
           "automargin": true,
           "gridcolor": "white",
           "linecolor": "white",
           "ticks": "",
           "title": {
            "standoff": 15
           },
           "zerolinecolor": "white",
           "zerolinewidth": 2
          },
          "yaxis": {
           "automargin": true,
           "gridcolor": "white",
           "linecolor": "white",
           "ticks": "",
           "title": {
            "standoff": 15
           },
           "zerolinecolor": "white",
           "zerolinewidth": 2
          }
         }
        },
        "violinmode": "group",
        "xaxis": {
         "anchor": "y",
         "domain": [
          0,
          1
         ],
         "title": {
          "text": "Continent"
         }
        },
        "yaxis": {
         "anchor": "x",
         "domain": [
          0,
          1
         ],
         "title": {
          "text": "Yearly%Change"
         }
        }
       }
      }
     },
     "metadata": {},
     "output_type": "display_data"
    }
   ],
   "source": [
    "fig = px.violin(data_frame=df[((df[\"Year\"] == 2020)|(df[\"Year\"] == 1955))], x= \"Continent\", y='Yearly%Change', color = \"Year\")\n",
    "fig.show()"
   ]
  },
  {
   "attachments": {},
   "cell_type": "markdown",
   "metadata": {},
   "source": [
    "Since the middle of the 20th century, the rate of population growth across most continents has crept downwards, and soon entire continents may begin experiencing a total population decline. Taking a look at certain individual countries, the situation becomes even more clear."
   ]
  },
  {
   "cell_type": "code",
   "execution_count": 454,
   "metadata": {},
   "outputs": [
    {
     "data": {
      "application/vnd.plotly.v1+json": {
       "config": {
        "plotlyServerURL": "https://plot.ly"
       },
       "data": [
        {
         "hovertemplate": "<b>%{hovertext}</b><br><br>Continent=Europe<br>Year=%{x}<br>Yearly%Change=%{y}<extra></extra>",
         "hovertext": [
          "Belarus",
          "Belarus",
          "Belarus",
          "Belarus",
          "Belarus",
          "Belarus",
          "Belarus",
          "Belarus",
          "Belarus",
          "Belarus",
          "Belarus",
          "Belarus",
          "Belarus",
          "Belarus",
          "Belarus",
          "Belarus",
          "Belarus",
          "Belarus",
          "Bosnia and Herzegovina",
          "Bosnia and Herzegovina",
          "Bosnia and Herzegovina",
          "Bosnia and Herzegovina",
          "Bosnia and Herzegovina",
          "Bosnia and Herzegovina",
          "Bosnia and Herzegovina",
          "Bosnia and Herzegovina",
          "Bosnia and Herzegovina",
          "Bosnia and Herzegovina",
          "Bosnia and Herzegovina",
          "Bosnia and Herzegovina",
          "Bosnia and Herzegovina",
          "Bosnia and Herzegovina",
          "Bosnia and Herzegovina",
          "Bosnia and Herzegovina",
          "Bosnia and Herzegovina",
          "Bosnia and Herzegovina",
          "Bulgaria",
          "Bulgaria",
          "Bulgaria",
          "Bulgaria",
          "Bulgaria",
          "Bulgaria",
          "Bulgaria",
          "Bulgaria",
          "Bulgaria",
          "Bulgaria",
          "Bulgaria",
          "Bulgaria",
          "Bulgaria",
          "Bulgaria",
          "Bulgaria",
          "Bulgaria",
          "Bulgaria",
          "Bulgaria",
          "Croatia",
          "Croatia",
          "Croatia",
          "Croatia",
          "Croatia",
          "Croatia",
          "Croatia",
          "Croatia",
          "Croatia",
          "Croatia",
          "Croatia",
          "Croatia",
          "Croatia",
          "Croatia",
          "Croatia",
          "Croatia",
          "Croatia",
          "Croatia",
          "Czech Republic (Czechia)",
          "Czech Republic (Czechia)",
          "Czech Republic (Czechia)",
          "Czech Republic (Czechia)",
          "Czech Republic (Czechia)",
          "Czech Republic (Czechia)",
          "Czech Republic (Czechia)",
          "Czech Republic (Czechia)",
          "Czech Republic (Czechia)",
          "Czech Republic (Czechia)",
          "Czech Republic (Czechia)",
          "Czech Republic (Czechia)",
          "Czech Republic (Czechia)",
          "Czech Republic (Czechia)",
          "Czech Republic (Czechia)",
          "Czech Republic (Czechia)",
          "Czech Republic (Czechia)",
          "Czech Republic (Czechia)",
          "Estonia",
          "Estonia",
          "Estonia",
          "Estonia",
          "Estonia",
          "Estonia",
          "Estonia",
          "Estonia",
          "Estonia",
          "Estonia",
          "Estonia",
          "Estonia",
          "Estonia",
          "Estonia",
          "Estonia",
          "Estonia",
          "Estonia",
          "Estonia",
          "Germany",
          "Germany",
          "Germany",
          "Germany",
          "Germany",
          "Germany",
          "Germany",
          "Germany",
          "Germany",
          "Germany",
          "Germany",
          "Germany",
          "Germany",
          "Germany",
          "Germany",
          "Germany",
          "Germany",
          "Germany",
          "Greece",
          "Greece",
          "Greece",
          "Greece",
          "Greece",
          "Greece",
          "Greece",
          "Greece",
          "Greece",
          "Greece",
          "Greece",
          "Greece",
          "Greece",
          "Greece",
          "Greece",
          "Greece",
          "Greece",
          "Greece",
          "Hungary",
          "Hungary",
          "Hungary",
          "Hungary",
          "Hungary",
          "Hungary",
          "Hungary",
          "Hungary",
          "Hungary",
          "Hungary",
          "Hungary",
          "Hungary",
          "Hungary",
          "Hungary",
          "Hungary",
          "Hungary",
          "Hungary",
          "Hungary",
          "Italy",
          "Italy",
          "Italy",
          "Italy",
          "Italy",
          "Italy",
          "Italy",
          "Italy",
          "Italy",
          "Italy",
          "Italy",
          "Italy",
          "Italy",
          "Italy",
          "Italy",
          "Italy",
          "Italy",
          "Italy",
          "Latvia",
          "Latvia",
          "Latvia",
          "Latvia",
          "Latvia",
          "Latvia",
          "Latvia",
          "Latvia",
          "Latvia",
          "Latvia",
          "Latvia",
          "Latvia",
          "Latvia",
          "Latvia",
          "Latvia",
          "Latvia",
          "Latvia",
          "Latvia",
          "Lithuania",
          "Lithuania",
          "Lithuania",
          "Lithuania",
          "Lithuania",
          "Lithuania",
          "Lithuania",
          "Lithuania",
          "Lithuania",
          "Lithuania",
          "Lithuania",
          "Lithuania",
          "Lithuania",
          "Lithuania",
          "Lithuania",
          "Lithuania",
          "Lithuania",
          "Lithuania",
          "Moldova",
          "Moldova",
          "Moldova",
          "Moldova",
          "Moldova",
          "Moldova",
          "Moldova",
          "Moldova",
          "Moldova",
          "Moldova",
          "Moldova",
          "Moldova",
          "Moldova",
          "Moldova",
          "Moldova",
          "Moldova",
          "Moldova",
          "Moldova",
          "Poland",
          "Poland",
          "Poland",
          "Poland",
          "Poland",
          "Poland",
          "Poland",
          "Poland",
          "Poland",
          "Poland",
          "Poland",
          "Poland",
          "Poland",
          "Poland",
          "Poland",
          "Poland",
          "Poland",
          "Poland",
          "Portugal",
          "Portugal",
          "Portugal",
          "Portugal",
          "Portugal",
          "Portugal",
          "Portugal",
          "Portugal",
          "Portugal",
          "Portugal",
          "Portugal",
          "Portugal",
          "Portugal",
          "Portugal",
          "Portugal",
          "Portugal",
          "Portugal",
          "Portugal",
          "Romania",
          "Romania",
          "Romania",
          "Romania",
          "Romania",
          "Romania",
          "Romania",
          "Romania",
          "Romania",
          "Romania",
          "Romania",
          "Romania",
          "Romania",
          "Romania",
          "Romania",
          "Romania",
          "Romania",
          "Romania",
          "Russia",
          "Russia",
          "Russia",
          "Russia",
          "Russia",
          "Russia",
          "Russia",
          "Russia",
          "Russia",
          "Russia",
          "Russia",
          "Russia",
          "Russia",
          "Russia",
          "Russia",
          "Russia",
          "Russia",
          "Russia",
          "Serbia",
          "Serbia",
          "Serbia",
          "Serbia",
          "Serbia",
          "Serbia",
          "Serbia",
          "Serbia",
          "Serbia",
          "Serbia",
          "Serbia",
          "Serbia",
          "Serbia",
          "Serbia",
          "Serbia",
          "Serbia",
          "Serbia",
          "Serbia",
          "Spain",
          "Spain",
          "Spain",
          "Spain",
          "Spain",
          "Spain",
          "Spain",
          "Spain",
          "Spain",
          "Spain",
          "Spain",
          "Spain",
          "Spain",
          "Spain",
          "Spain",
          "Spain",
          "Spain",
          "Spain",
          "Ukraine",
          "Ukraine",
          "Ukraine",
          "Ukraine",
          "Ukraine",
          "Ukraine",
          "Ukraine",
          "Ukraine",
          "Ukraine",
          "Ukraine",
          "Ukraine",
          "Ukraine",
          "Ukraine",
          "Ukraine",
          "Ukraine",
          "Ukraine",
          "Ukraine",
          "Ukraine"
         ],
         "legendgroup": "Europe",
         "line": {
          "color": "#636efa",
          "dash": "solid"
         },
         "marker": {
          "symbol": "circle"
         },
         "mode": "lines",
         "name": "Europe",
         "orientation": "v",
         "showlegend": true,
         "type": "scatter",
         "x": [
          1955,
          1960,
          1965,
          1970,
          1975,
          1980,
          1985,
          1990,
          1995,
          2000,
          2005,
          2010,
          2015,
          2016,
          2017,
          2018,
          2019,
          2020,
          1955,
          1960,
          1965,
          1970,
          1975,
          1980,
          1985,
          1990,
          1995,
          2000,
          2005,
          2010,
          2015,
          2016,
          2017,
          2018,
          2019,
          2020,
          1955,
          1960,
          1965,
          1970,
          1975,
          1980,
          1985,
          1990,
          1995,
          2000,
          2005,
          2010,
          2015,
          2016,
          2017,
          2018,
          2019,
          2020,
          1955,
          1960,
          1965,
          1970,
          1975,
          1980,
          1985,
          1990,
          1995,
          2000,
          2005,
          2010,
          2015,
          2016,
          2017,
          2018,
          2019,
          2020,
          1955,
          1960,
          1965,
          1970,
          1975,
          1980,
          1985,
          1990,
          1995,
          2000,
          2005,
          2010,
          2015,
          2016,
          2017,
          2018,
          2019,
          2020,
          1955,
          1960,
          1965,
          1970,
          1975,
          1980,
          1985,
          1990,
          1995,
          2000,
          2005,
          2010,
          2015,
          2016,
          2017,
          2018,
          2019,
          2020,
          1955,
          1960,
          1965,
          1970,
          1975,
          1980,
          1985,
          1990,
          1995,
          2000,
          2005,
          2010,
          2015,
          2016,
          2017,
          2018,
          2019,
          2020,
          1955,
          1960,
          1965,
          1970,
          1975,
          1980,
          1985,
          1990,
          1995,
          2000,
          2005,
          2010,
          2015,
          2016,
          2017,
          2018,
          2019,
          2020,
          1955,
          1960,
          1965,
          1970,
          1975,
          1980,
          1985,
          1990,
          1995,
          2000,
          2005,
          2010,
          2015,
          2016,
          2017,
          2018,
          2019,
          2020,
          1955,
          1960,
          1965,
          1970,
          1975,
          1980,
          1985,
          1990,
          1995,
          2000,
          2005,
          2010,
          2015,
          2016,
          2017,
          2018,
          2019,
          2020,
          1955,
          1960,
          1965,
          1970,
          1975,
          1980,
          1985,
          1990,
          1995,
          2000,
          2005,
          2010,
          2015,
          2016,
          2017,
          2018,
          2019,
          2020,
          1955,
          1960,
          1965,
          1970,
          1975,
          1980,
          1985,
          1990,
          1995,
          2000,
          2005,
          2010,
          2015,
          2016,
          2017,
          2018,
          2019,
          2020,
          1955,
          1960,
          1965,
          1970,
          1975,
          1980,
          1985,
          1990,
          1995,
          2000,
          2005,
          2010,
          2015,
          2016,
          2017,
          2018,
          2019,
          2020,
          1955,
          1960,
          1965,
          1970,
          1975,
          1980,
          1985,
          1990,
          1995,
          2000,
          2005,
          2010,
          2015,
          2016,
          2017,
          2018,
          2019,
          2020,
          1955,
          1960,
          1965,
          1970,
          1975,
          1980,
          1985,
          1990,
          1995,
          2000,
          2005,
          2010,
          2015,
          2016,
          2017,
          2018,
          2019,
          2020,
          1955,
          1960,
          1965,
          1970,
          1975,
          1980,
          1985,
          1990,
          1995,
          2000,
          2005,
          2010,
          2015,
          2016,
          2017,
          2018,
          2019,
          2020,
          1955,
          1960,
          1965,
          1970,
          1975,
          1980,
          1985,
          1990,
          1995,
          2000,
          2005,
          2010,
          2015,
          2016,
          2017,
          2018,
          2019,
          2020,
          1955,
          1960,
          1965,
          1970,
          1975,
          1980,
          1985,
          1990,
          1995,
          2000,
          2005,
          2010,
          2015,
          2016,
          2017,
          2018,
          2019,
          2020,
          1955,
          1960,
          1965,
          1970,
          1975,
          1980,
          1985,
          1990,
          1995,
          2000,
          2005,
          2010,
          2015,
          2016,
          2017,
          2018,
          2019,
          2020,
          1955,
          1960,
          1965,
          1970,
          1975,
          1980,
          1985,
          1990,
          1995,
          2000,
          2005,
          2010,
          2015,
          2016,
          2017,
          2018,
          2019,
          2020
         ],
         "xaxis": "x",
         "y": [
          0.01,
          0.96,
          0.92,
          0.94,
          0.75,
          0.68,
          0.68,
          0.5,
          -0.15,
          -0.41,
          -0.64,
          -0.3,
          0.04,
          0.07,
          0.05,
          0.03,
          0,
          -0.03,
          1.99,
          1.9,
          1.85,
          1.24,
          1.17,
          0.96,
          1,
          0.32,
          -3.02,
          -0.41,
          0.08,
          -0.32,
          -1.54,
          -1.26,
          -1.03,
          -0.82,
          -0.69,
          -0.61,
          0.84,
          0.84,
          0.84,
          0.68,
          0.54,
          0.32,
          0.22,
          -0.3,
          -1.07,
          -0.93,
          -0.79,
          -0.69,
          -0.61,
          -0.66,
          -0.69,
          -0.72,
          -0.73,
          -0.74,
          0.92,
          0.79,
          0.64,
          0.43,
          0.35,
          0.43,
          0.51,
          0.25,
          -0.68,
          -0.83,
          -0.23,
          -0.23,
          -0.44,
          -0.57,
          -0.61,
          -0.63,
          -0.63,
          -0.61,
          1.01,
          0.48,
          0.46,
          0.01,
          0.51,
          0.55,
          -0.03,
          0.02,
          0.03,
          -0.13,
          -0.06,
          0.54,
          0.12,
          0.16,
          0.21,
          0.23,
          0.22,
          0.18,
          1.04,
          0.97,
          1.18,
          1.06,
          0.89,
          0.73,
          0.64,
          0.56,
          -1.75,
          -0.48,
          -0.63,
          -0.35,
          -0.25,
          0.09,
          0.22,
          0.27,
          0.21,
          0.07,
          0.45,
          0.52,
          0.76,
          0.6,
          0.07,
          -0.15,
          -0.15,
          0.35,
          0.52,
          0.06,
          0.05,
          -0.19,
          0.24,
          0.5,
          0.57,
          0.56,
          0.47,
          0.32,
          0.88,
          0.65,
          0.43,
          0.49,
          0.8,
          1.32,
          0.7,
          0.51,
          1,
          0.62,
          0.26,
          -0.61,
          -0.42,
          -0.42,
          -0.43,
          -0.45,
          -0.46,
          -0.48,
          1.03,
          0.35,
          0.34,
          0.38,
          0.31,
          0.43,
          -0.35,
          -0.36,
          -0.05,
          -0.25,
          -0.26,
          -0.32,
          -0.3,
          -0.26,
          -0.24,
          -0.23,
          -0.24,
          -0.25,
          0.73,
          0.56,
          0.78,
          0.7,
          0.64,
          0.39,
          0.21,
          0.04,
          0.04,
          -0.17,
          0.55,
          0.36,
          0.42,
          0.14,
          0.02,
          -0.08,
          -0.13,
          -0.15,
          0.77,
          1.25,
          1.26,
          0.96,
          0.76,
          0.42,
          0.47,
          0.64,
          -1.2,
          -1.01,
          -1.13,
          -1.21,
          -1.17,
          -1.17,
          -1.17,
          -1.16,
          -1.13,
          -1.08,
          0.47,
          1.05,
          1.38,
          1.12,
          1.01,
          0.79,
          0.76,
          0.74,
          -0.38,
          -0.7,
          -0.92,
          -1.35,
          -1.26,
          -1.44,
          -1.53,
          -1.55,
          -1.49,
          -1.35,
          2.33,
          2.72,
          2.12,
          1.51,
          1.32,
          0.88,
          1,
          0.7,
          -0.11,
          -0.64,
          -0.21,
          -0.35,
          -0.08,
          -0.12,
          -0.16,
          -0.19,
          -0.21,
          -0.23,
          1.9,
          1.66,
          1.15,
          0.8,
          0.8,
          0.91,
          0.88,
          0.44,
          0.26,
          0.05,
          -0.1,
          -0.02,
          -0.15,
          -0.12,
          -0.09,
          -0.08,
          -0.09,
          -0.11,
          0.49,
          0.5,
          0.04,
          -0.48,
          1.18,
          1.23,
          0.36,
          -0.07,
          0.39,
          0.4,
          0.41,
          0.17,
          -0.43,
          -0.41,
          -0.36,
          -0.31,
          -0.29,
          -0.29,
          1.49,
          1.26,
          0.81,
          1.18,
          1.06,
          0.86,
          0.4,
          0.36,
          -0.45,
          -0.73,
          -0.66,
          -0.9,
          -0.54,
          -0.65,
          -0.72,
          -0.75,
          -0.73,
          -0.66,
          1.61,
          1.48,
          1.08,
          0.57,
          0.56,
          0.63,
          0.7,
          0.63,
          0.09,
          -0.25,
          -0.38,
          -0.03,
          0.21,
          0.2,
          0.18,
          0.14,
          0.09,
          0.04,
          1.45,
          0.87,
          0.73,
          0.72,
          0.91,
          0.95,
          0.76,
          0.56,
          0.76,
          -0.82,
          -0.63,
          -0.44,
          -0.26,
          -0.26,
          -0.27,
          -0.3,
          -0.35,
          -0.4,
          0.69,
          0.92,
          1.12,
          1.06,
          1.15,
          0.99,
          0.54,
          0.24,
          0.3,
          0.52,
          1.52,
          1.29,
          -0.11,
          -0.08,
          0.03,
          0.1,
          0.09,
          0.04,
          1.42,
          1.29,
          1.19,
          0.79,
          0.7,
          0.49,
          0.38,
          0.21,
          -0.22,
          -0.83,
          -0.81,
          -0.47,
          -0.38,
          -0.46,
          -0.51,
          -0.54,
          -0.57,
          -0.59
         ],
         "yaxis": "y"
        },
        {
         "hovertemplate": "<b>%{hovertext}</b><br><br>Continent=Asia<br>Year=%{x}<br>Yearly%Change=%{y}<extra></extra>",
         "hovertext": [
          "Japan",
          "Japan",
          "Japan",
          "Japan",
          "Japan",
          "Japan",
          "Japan",
          "Japan",
          "Japan",
          "Japan",
          "Japan",
          "Japan",
          "Japan",
          "Japan",
          "Japan",
          "Japan",
          "Japan",
          "Japan"
         ],
         "legendgroup": "Asia",
         "line": {
          "color": "#EF553B",
          "dash": "solid"
         },
         "marker": {
          "symbol": "circle"
         },
         "mode": "lines",
         "name": "Asia",
         "orientation": "v",
         "showlegend": true,
         "type": "scatter",
         "x": [
          1955,
          1960,
          1965,
          1970,
          1975,
          1980,
          1985,
          1990,
          1995,
          2000,
          2005,
          2010,
          2015,
          2016,
          2017,
          2018,
          2019,
          2020
         ],
         "xaxis": "x",
         "y": [
          1.46,
          1.02,
          1,
          1.28,
          1.39,
          0.94,
          0.68,
          0.43,
          0.3,
          0.18,
          0.13,
          0.03,
          -0.09,
          -0.17,
          -0.2,
          -0.24,
          -0.27,
          -0.3
         ],
         "yaxis": "y"
        },
        {
         "hovertemplate": "<b>%{hovertext}</b><br><br>Continent=Latin America and the Caribbean<br>Year=%{x}<br>Yearly%Change=%{y}<extra></extra>",
         "hovertext": [
          "Puerto Rico",
          "Puerto Rico",
          "Puerto Rico",
          "Puerto Rico",
          "Puerto Rico",
          "Puerto Rico",
          "Puerto Rico",
          "Puerto Rico",
          "Puerto Rico",
          "Puerto Rico",
          "Puerto Rico",
          "Puerto Rico",
          "Puerto Rico",
          "Puerto Rico",
          "Puerto Rico",
          "Puerto Rico",
          "Puerto Rico",
          "Puerto Rico"
         ],
         "legendgroup": "Latin America and the Caribbean",
         "line": {
          "color": "#00cc96",
          "dash": "solid"
         },
         "marker": {
          "symbol": "circle"
         },
         "mode": "lines",
         "name": "Latin America and the Caribbean",
         "orientation": "v",
         "showlegend": true,
         "type": "scatter",
         "x": [
          1955,
          1960,
          1965,
          1970,
          1975,
          1980,
          1985,
          1990,
          1995,
          2000,
          2005,
          2010,
          2015,
          2016,
          2017,
          2018,
          2019,
          2020
         ],
         "xaxis": "x",
         "y": [
          -0.2,
          0.89,
          1.79,
          0.97,
          1.57,
          1.67,
          1.09,
          0.84,
          0.95,
          0.56,
          -0.2,
          -0.29,
          -1.13,
          -2.91,
          -3.64,
          -3.92,
          -3.49,
          -2.47
         ],
         "yaxis": "y"
        }
       ],
       "layout": {
        "legend": {
         "title": {
          "text": "Continent"
         },
         "tracegroupgap": 0
        },
        "margin": {
         "t": 60
        },
        "template": {
         "data": {
          "bar": [
           {
            "error_x": {
             "color": "#2a3f5f"
            },
            "error_y": {
             "color": "#2a3f5f"
            },
            "marker": {
             "line": {
              "color": "#E5ECF6",
              "width": 0.5
             },
             "pattern": {
              "fillmode": "overlay",
              "size": 10,
              "solidity": 0.2
             }
            },
            "type": "bar"
           }
          ],
          "barpolar": [
           {
            "marker": {
             "line": {
              "color": "#E5ECF6",
              "width": 0.5
             },
             "pattern": {
              "fillmode": "overlay",
              "size": 10,
              "solidity": 0.2
             }
            },
            "type": "barpolar"
           }
          ],
          "carpet": [
           {
            "aaxis": {
             "endlinecolor": "#2a3f5f",
             "gridcolor": "white",
             "linecolor": "white",
             "minorgridcolor": "white",
             "startlinecolor": "#2a3f5f"
            },
            "baxis": {
             "endlinecolor": "#2a3f5f",
             "gridcolor": "white",
             "linecolor": "white",
             "minorgridcolor": "white",
             "startlinecolor": "#2a3f5f"
            },
            "type": "carpet"
           }
          ],
          "choropleth": [
           {
            "colorbar": {
             "outlinewidth": 0,
             "ticks": ""
            },
            "type": "choropleth"
           }
          ],
          "contour": [
           {
            "colorbar": {
             "outlinewidth": 0,
             "ticks": ""
            },
            "colorscale": [
             [
              0,
              "#0d0887"
             ],
             [
              0.1111111111111111,
              "#46039f"
             ],
             [
              0.2222222222222222,
              "#7201a8"
             ],
             [
              0.3333333333333333,
              "#9c179e"
             ],
             [
              0.4444444444444444,
              "#bd3786"
             ],
             [
              0.5555555555555556,
              "#d8576b"
             ],
             [
              0.6666666666666666,
              "#ed7953"
             ],
             [
              0.7777777777777778,
              "#fb9f3a"
             ],
             [
              0.8888888888888888,
              "#fdca26"
             ],
             [
              1,
              "#f0f921"
             ]
            ],
            "type": "contour"
           }
          ],
          "contourcarpet": [
           {
            "colorbar": {
             "outlinewidth": 0,
             "ticks": ""
            },
            "type": "contourcarpet"
           }
          ],
          "heatmap": [
           {
            "colorbar": {
             "outlinewidth": 0,
             "ticks": ""
            },
            "colorscale": [
             [
              0,
              "#0d0887"
             ],
             [
              0.1111111111111111,
              "#46039f"
             ],
             [
              0.2222222222222222,
              "#7201a8"
             ],
             [
              0.3333333333333333,
              "#9c179e"
             ],
             [
              0.4444444444444444,
              "#bd3786"
             ],
             [
              0.5555555555555556,
              "#d8576b"
             ],
             [
              0.6666666666666666,
              "#ed7953"
             ],
             [
              0.7777777777777778,
              "#fb9f3a"
             ],
             [
              0.8888888888888888,
              "#fdca26"
             ],
             [
              1,
              "#f0f921"
             ]
            ],
            "type": "heatmap"
           }
          ],
          "heatmapgl": [
           {
            "colorbar": {
             "outlinewidth": 0,
             "ticks": ""
            },
            "colorscale": [
             [
              0,
              "#0d0887"
             ],
             [
              0.1111111111111111,
              "#46039f"
             ],
             [
              0.2222222222222222,
              "#7201a8"
             ],
             [
              0.3333333333333333,
              "#9c179e"
             ],
             [
              0.4444444444444444,
              "#bd3786"
             ],
             [
              0.5555555555555556,
              "#d8576b"
             ],
             [
              0.6666666666666666,
              "#ed7953"
             ],
             [
              0.7777777777777778,
              "#fb9f3a"
             ],
             [
              0.8888888888888888,
              "#fdca26"
             ],
             [
              1,
              "#f0f921"
             ]
            ],
            "type": "heatmapgl"
           }
          ],
          "histogram": [
           {
            "marker": {
             "pattern": {
              "fillmode": "overlay",
              "size": 10,
              "solidity": 0.2
             }
            },
            "type": "histogram"
           }
          ],
          "histogram2d": [
           {
            "colorbar": {
             "outlinewidth": 0,
             "ticks": ""
            },
            "colorscale": [
             [
              0,
              "#0d0887"
             ],
             [
              0.1111111111111111,
              "#46039f"
             ],
             [
              0.2222222222222222,
              "#7201a8"
             ],
             [
              0.3333333333333333,
              "#9c179e"
             ],
             [
              0.4444444444444444,
              "#bd3786"
             ],
             [
              0.5555555555555556,
              "#d8576b"
             ],
             [
              0.6666666666666666,
              "#ed7953"
             ],
             [
              0.7777777777777778,
              "#fb9f3a"
             ],
             [
              0.8888888888888888,
              "#fdca26"
             ],
             [
              1,
              "#f0f921"
             ]
            ],
            "type": "histogram2d"
           }
          ],
          "histogram2dcontour": [
           {
            "colorbar": {
             "outlinewidth": 0,
             "ticks": ""
            },
            "colorscale": [
             [
              0,
              "#0d0887"
             ],
             [
              0.1111111111111111,
              "#46039f"
             ],
             [
              0.2222222222222222,
              "#7201a8"
             ],
             [
              0.3333333333333333,
              "#9c179e"
             ],
             [
              0.4444444444444444,
              "#bd3786"
             ],
             [
              0.5555555555555556,
              "#d8576b"
             ],
             [
              0.6666666666666666,
              "#ed7953"
             ],
             [
              0.7777777777777778,
              "#fb9f3a"
             ],
             [
              0.8888888888888888,
              "#fdca26"
             ],
             [
              1,
              "#f0f921"
             ]
            ],
            "type": "histogram2dcontour"
           }
          ],
          "mesh3d": [
           {
            "colorbar": {
             "outlinewidth": 0,
             "ticks": ""
            },
            "type": "mesh3d"
           }
          ],
          "parcoords": [
           {
            "line": {
             "colorbar": {
              "outlinewidth": 0,
              "ticks": ""
             }
            },
            "type": "parcoords"
           }
          ],
          "pie": [
           {
            "automargin": true,
            "type": "pie"
           }
          ],
          "scatter": [
           {
            "fillpattern": {
             "fillmode": "overlay",
             "size": 10,
             "solidity": 0.2
            },
            "type": "scatter"
           }
          ],
          "scatter3d": [
           {
            "line": {
             "colorbar": {
              "outlinewidth": 0,
              "ticks": ""
             }
            },
            "marker": {
             "colorbar": {
              "outlinewidth": 0,
              "ticks": ""
             }
            },
            "type": "scatter3d"
           }
          ],
          "scattercarpet": [
           {
            "marker": {
             "colorbar": {
              "outlinewidth": 0,
              "ticks": ""
             }
            },
            "type": "scattercarpet"
           }
          ],
          "scattergeo": [
           {
            "marker": {
             "colorbar": {
              "outlinewidth": 0,
              "ticks": ""
             }
            },
            "type": "scattergeo"
           }
          ],
          "scattergl": [
           {
            "marker": {
             "colorbar": {
              "outlinewidth": 0,
              "ticks": ""
             }
            },
            "type": "scattergl"
           }
          ],
          "scattermapbox": [
           {
            "marker": {
             "colorbar": {
              "outlinewidth": 0,
              "ticks": ""
             }
            },
            "type": "scattermapbox"
           }
          ],
          "scatterpolar": [
           {
            "marker": {
             "colorbar": {
              "outlinewidth": 0,
              "ticks": ""
             }
            },
            "type": "scatterpolar"
           }
          ],
          "scatterpolargl": [
           {
            "marker": {
             "colorbar": {
              "outlinewidth": 0,
              "ticks": ""
             }
            },
            "type": "scatterpolargl"
           }
          ],
          "scatterternary": [
           {
            "marker": {
             "colorbar": {
              "outlinewidth": 0,
              "ticks": ""
             }
            },
            "type": "scatterternary"
           }
          ],
          "surface": [
           {
            "colorbar": {
             "outlinewidth": 0,
             "ticks": ""
            },
            "colorscale": [
             [
              0,
              "#0d0887"
             ],
             [
              0.1111111111111111,
              "#46039f"
             ],
             [
              0.2222222222222222,
              "#7201a8"
             ],
             [
              0.3333333333333333,
              "#9c179e"
             ],
             [
              0.4444444444444444,
              "#bd3786"
             ],
             [
              0.5555555555555556,
              "#d8576b"
             ],
             [
              0.6666666666666666,
              "#ed7953"
             ],
             [
              0.7777777777777778,
              "#fb9f3a"
             ],
             [
              0.8888888888888888,
              "#fdca26"
             ],
             [
              1,
              "#f0f921"
             ]
            ],
            "type": "surface"
           }
          ],
          "table": [
           {
            "cells": {
             "fill": {
              "color": "#EBF0F8"
             },
             "line": {
              "color": "white"
             }
            },
            "header": {
             "fill": {
              "color": "#C8D4E3"
             },
             "line": {
              "color": "white"
             }
            },
            "type": "table"
           }
          ]
         },
         "layout": {
          "annotationdefaults": {
           "arrowcolor": "#2a3f5f",
           "arrowhead": 0,
           "arrowwidth": 1
          },
          "autotypenumbers": "strict",
          "coloraxis": {
           "colorbar": {
            "outlinewidth": 0,
            "ticks": ""
           }
          },
          "colorscale": {
           "diverging": [
            [
             0,
             "#8e0152"
            ],
            [
             0.1,
             "#c51b7d"
            ],
            [
             0.2,
             "#de77ae"
            ],
            [
             0.3,
             "#f1b6da"
            ],
            [
             0.4,
             "#fde0ef"
            ],
            [
             0.5,
             "#f7f7f7"
            ],
            [
             0.6,
             "#e6f5d0"
            ],
            [
             0.7,
             "#b8e186"
            ],
            [
             0.8,
             "#7fbc41"
            ],
            [
             0.9,
             "#4d9221"
            ],
            [
             1,
             "#276419"
            ]
           ],
           "sequential": [
            [
             0,
             "#0d0887"
            ],
            [
             0.1111111111111111,
             "#46039f"
            ],
            [
             0.2222222222222222,
             "#7201a8"
            ],
            [
             0.3333333333333333,
             "#9c179e"
            ],
            [
             0.4444444444444444,
             "#bd3786"
            ],
            [
             0.5555555555555556,
             "#d8576b"
            ],
            [
             0.6666666666666666,
             "#ed7953"
            ],
            [
             0.7777777777777778,
             "#fb9f3a"
            ],
            [
             0.8888888888888888,
             "#fdca26"
            ],
            [
             1,
             "#f0f921"
            ]
           ],
           "sequentialminus": [
            [
             0,
             "#0d0887"
            ],
            [
             0.1111111111111111,
             "#46039f"
            ],
            [
             0.2222222222222222,
             "#7201a8"
            ],
            [
             0.3333333333333333,
             "#9c179e"
            ],
            [
             0.4444444444444444,
             "#bd3786"
            ],
            [
             0.5555555555555556,
             "#d8576b"
            ],
            [
             0.6666666666666666,
             "#ed7953"
            ],
            [
             0.7777777777777778,
             "#fb9f3a"
            ],
            [
             0.8888888888888888,
             "#fdca26"
            ],
            [
             1,
             "#f0f921"
            ]
           ]
          },
          "colorway": [
           "#636efa",
           "#EF553B",
           "#00cc96",
           "#ab63fa",
           "#FFA15A",
           "#19d3f3",
           "#FF6692",
           "#B6E880",
           "#FF97FF",
           "#FECB52"
          ],
          "font": {
           "color": "#2a3f5f"
          },
          "geo": {
           "bgcolor": "white",
           "lakecolor": "white",
           "landcolor": "#E5ECF6",
           "showlakes": true,
           "showland": true,
           "subunitcolor": "white"
          },
          "hoverlabel": {
           "align": "left"
          },
          "hovermode": "closest",
          "mapbox": {
           "style": "light"
          },
          "paper_bgcolor": "white",
          "plot_bgcolor": "#E5ECF6",
          "polar": {
           "angularaxis": {
            "gridcolor": "white",
            "linecolor": "white",
            "ticks": ""
           },
           "bgcolor": "#E5ECF6",
           "radialaxis": {
            "gridcolor": "white",
            "linecolor": "white",
            "ticks": ""
           }
          },
          "scene": {
           "xaxis": {
            "backgroundcolor": "#E5ECF6",
            "gridcolor": "white",
            "gridwidth": 2,
            "linecolor": "white",
            "showbackground": true,
            "ticks": "",
            "zerolinecolor": "white"
           },
           "yaxis": {
            "backgroundcolor": "#E5ECF6",
            "gridcolor": "white",
            "gridwidth": 2,
            "linecolor": "white",
            "showbackground": true,
            "ticks": "",
            "zerolinecolor": "white"
           },
           "zaxis": {
            "backgroundcolor": "#E5ECF6",
            "gridcolor": "white",
            "gridwidth": 2,
            "linecolor": "white",
            "showbackground": true,
            "ticks": "",
            "zerolinecolor": "white"
           }
          },
          "shapedefaults": {
           "line": {
            "color": "#2a3f5f"
           }
          },
          "ternary": {
           "aaxis": {
            "gridcolor": "white",
            "linecolor": "white",
            "ticks": ""
           },
           "baxis": {
            "gridcolor": "white",
            "linecolor": "white",
            "ticks": ""
           },
           "bgcolor": "#E5ECF6",
           "caxis": {
            "gridcolor": "white",
            "linecolor": "white",
            "ticks": ""
           }
          },
          "title": {
           "x": 0.05
          },
          "xaxis": {
           "automargin": true,
           "gridcolor": "white",
           "linecolor": "white",
           "ticks": "",
           "title": {
            "standoff": 15
           },
           "zerolinecolor": "white",
           "zerolinewidth": 2
          },
          "yaxis": {
           "automargin": true,
           "gridcolor": "white",
           "linecolor": "white",
           "ticks": "",
           "title": {
            "standoff": 15
           },
           "zerolinecolor": "white",
           "zerolinewidth": 2
          }
         }
        },
        "xaxis": {
         "anchor": "y",
         "domain": [
          0,
          1
         ],
         "title": {
          "text": "Year"
         }
        },
        "yaxis": {
         "anchor": "x",
         "domain": [
          0,
          1
         ],
         "title": {
          "text": "Yearly%Change"
         }
        }
       }
      }
     },
     "metadata": {},
     "output_type": "display_data"
    }
   ],
   "source": [
    "df[\"PopLessMigration\"] = df[\"YearlyChange\"] - df[\"Migrants(net)\"] # Subtract migration from population growth stats to only include natural population decline\n",
    "df1 = df[(df[\"PopLessMigration\"] < -5000) & (df[\"Yearly%Change\"] < 0) & (df[\"Year\"] > 1999) & (df[\"Country\"] != \"Syria\")]  # Filter a new dataframe for countries who have experienced natural population decline this millenium\n",
    "declinelist = df1[\"Country\"].unique()\n",
    "fig = px.line(data_frame= df[df['Country'].isin(declinelist)], y = \"Yearly%Change\", x = \"Year\", color=\"Continent\", hover_name = \"Country\")\n",
    "fig.show()"
   ]
  },
  {
   "attachments": {},
   "cell_type": "markdown",
   "metadata": {},
   "source": [
    "Examining those countries that have already experienced decline, we can see several patterns:\n",
    "- Most countries already experiencing population decline are in Europe\n",
    "- These natural declines happen at a very slow pace, with a gradual decline in population growth rate over time\n",
    "- The trend does not show any clear indications of reversing\n",
    "\n",
    "From these, we can draw several conclusions:\n",
    "- Population decline can occur as a result of endogenous factors\n",
    "- These endogenous factors are prevalent in Europe and Japan\n",
    "- These endogenous factors are not typically sensitive to external shocks\n",
    "\n",
    "Having established that, lets examine what these factors could be, why they are prevalent in Europe and Japan and not elsewhere, and how to potentially reverse them."
   ]
  },
  {
   "cell_type": "code",
   "execution_count": 455,
   "metadata": {},
   "outputs": [
    {
     "data": {
      "application/vnd.plotly.v1+json": {
       "config": {
        "plotlyServerURL": "https://plot.ly"
       },
       "data": [
        {
         "alignmentgroup": "True",
         "box": {
          "visible": false
         },
         "hovertemplate": "Pop Decline=False<br>variable=%{x}<br>value=%{y}<extra></extra>",
         "legendgroup": "False",
         "marker": {
          "color": "#636efa"
         },
         "name": "False",
         "offsetgroup": "False",
         "orientation": "v",
         "scalegroup": "True",
         "showlegend": true,
         "type": "violin",
         "x": [
          "UrbanPop%",
          "UrbanPop%",
          "UrbanPop%",
          "UrbanPop%",
          "UrbanPop%",
          "UrbanPop%",
          "UrbanPop%",
          "UrbanPop%",
          "UrbanPop%",
          "UrbanPop%",
          "UrbanPop%",
          "UrbanPop%",
          "UrbanPop%",
          "UrbanPop%",
          "UrbanPop%",
          "UrbanPop%",
          "UrbanPop%",
          "UrbanPop%",
          "UrbanPop%",
          "UrbanPop%",
          "UrbanPop%",
          "UrbanPop%",
          "UrbanPop%",
          "UrbanPop%",
          "UrbanPop%",
          "UrbanPop%",
          "UrbanPop%",
          "UrbanPop%",
          "UrbanPop%",
          "UrbanPop%",
          "UrbanPop%",
          "UrbanPop%",
          "UrbanPop%",
          "UrbanPop%",
          "UrbanPop%",
          "UrbanPop%",
          "UrbanPop%",
          "UrbanPop%",
          "UrbanPop%",
          "UrbanPop%",
          "UrbanPop%",
          "UrbanPop%",
          "UrbanPop%",
          "UrbanPop%",
          "UrbanPop%",
          "UrbanPop%",
          "UrbanPop%",
          "UrbanPop%",
          "UrbanPop%",
          "UrbanPop%",
          "UrbanPop%",
          "UrbanPop%",
          "UrbanPop%",
          "UrbanPop%",
          "UrbanPop%",
          "UrbanPop%",
          "UrbanPop%",
          "UrbanPop%",
          "UrbanPop%",
          "UrbanPop%",
          "UrbanPop%",
          "UrbanPop%",
          "UrbanPop%",
          "UrbanPop%",
          "UrbanPop%",
          "UrbanPop%",
          "UrbanPop%",
          "UrbanPop%",
          "UrbanPop%",
          "UrbanPop%",
          "UrbanPop%",
          "UrbanPop%",
          "UrbanPop%",
          "UrbanPop%",
          "UrbanPop%",
          "UrbanPop%",
          "UrbanPop%",
          "UrbanPop%",
          "UrbanPop%",
          "UrbanPop%",
          "UrbanPop%",
          "UrbanPop%",
          "UrbanPop%",
          "UrbanPop%",
          "UrbanPop%",
          "UrbanPop%",
          "UrbanPop%",
          "UrbanPop%",
          "UrbanPop%",
          "UrbanPop%",
          "UrbanPop%",
          "UrbanPop%",
          "UrbanPop%",
          "UrbanPop%",
          "UrbanPop%",
          "UrbanPop%",
          "UrbanPop%",
          "UrbanPop%",
          "UrbanPop%",
          "UrbanPop%",
          "UrbanPop%",
          "UrbanPop%",
          "UrbanPop%",
          "UrbanPop%",
          "UrbanPop%",
          "UrbanPop%",
          "UrbanPop%",
          "UrbanPop%",
          "UrbanPop%",
          "UrbanPop%",
          "UrbanPop%",
          "UrbanPop%",
          "UrbanPop%",
          "UrbanPop%",
          "UrbanPop%",
          "UrbanPop%",
          "UrbanPop%",
          "UrbanPop%",
          "UrbanPop%",
          "UrbanPop%",
          "UrbanPop%",
          "UrbanPop%",
          "UrbanPop%",
          "UrbanPop%",
          "UrbanPop%",
          "UrbanPop%",
          "UrbanPop%",
          "UrbanPop%",
          "UrbanPop%",
          "UrbanPop%",
          "UrbanPop%",
          "UrbanPop%",
          "UrbanPop%",
          "UrbanPop%",
          "UrbanPop%",
          "UrbanPop%",
          "UrbanPop%",
          "UrbanPop%",
          "UrbanPop%",
          "UrbanPop%",
          "UrbanPop%",
          "UrbanPop%",
          "UrbanPop%",
          "UrbanPop%",
          "UrbanPop%",
          "UrbanPop%",
          "UrbanPop%",
          "UrbanPop%",
          "UrbanPop%",
          "UrbanPop%",
          "UrbanPop%",
          "UrbanPop%",
          "UrbanPop%",
          "UrbanPop%",
          "UrbanPop%",
          "UrbanPop%",
          "UrbanPop%",
          "UrbanPop%",
          "UrbanPop%",
          "UrbanPop%",
          "UrbanPop%",
          "UrbanPop%",
          "UrbanPop%",
          "UrbanPop%",
          "UrbanPop%",
          "UrbanPop%",
          "UrbanPop%",
          "UrbanPop%",
          "UrbanPop%",
          "UrbanPop%",
          "UrbanPop%",
          "UrbanPop%",
          "UrbanPop%",
          "UrbanPop%",
          "UrbanPop%",
          "MedianAge",
          "MedianAge",
          "MedianAge",
          "MedianAge",
          "MedianAge",
          "MedianAge",
          "MedianAge",
          "MedianAge",
          "MedianAge",
          "MedianAge",
          "MedianAge",
          "MedianAge",
          "MedianAge",
          "MedianAge",
          "MedianAge",
          "MedianAge",
          "MedianAge",
          "MedianAge",
          "MedianAge",
          "MedianAge",
          "MedianAge",
          "MedianAge",
          "MedianAge",
          "MedianAge",
          "MedianAge",
          "MedianAge",
          "MedianAge",
          "MedianAge",
          "MedianAge",
          "MedianAge",
          "MedianAge",
          "MedianAge",
          "MedianAge",
          "MedianAge",
          "MedianAge",
          "MedianAge",
          "MedianAge",
          "MedianAge",
          "MedianAge",
          "MedianAge",
          "MedianAge",
          "MedianAge",
          "MedianAge",
          "MedianAge",
          "MedianAge",
          "MedianAge",
          "MedianAge",
          "MedianAge",
          "MedianAge",
          "MedianAge",
          "MedianAge",
          "MedianAge",
          "MedianAge",
          "MedianAge",
          "MedianAge",
          "MedianAge",
          "MedianAge",
          "MedianAge",
          "MedianAge",
          "MedianAge",
          "MedianAge",
          "MedianAge",
          "MedianAge",
          "MedianAge",
          "MedianAge",
          "MedianAge",
          "MedianAge",
          "MedianAge",
          "MedianAge",
          "MedianAge",
          "MedianAge",
          "MedianAge",
          "MedianAge",
          "MedianAge",
          "MedianAge",
          "MedianAge",
          "MedianAge",
          "MedianAge",
          "MedianAge",
          "MedianAge",
          "MedianAge",
          "MedianAge",
          "MedianAge",
          "MedianAge",
          "MedianAge",
          "MedianAge",
          "MedianAge",
          "MedianAge",
          "MedianAge",
          "MedianAge",
          "MedianAge",
          "MedianAge",
          "MedianAge",
          "MedianAge",
          "MedianAge",
          "MedianAge",
          "MedianAge",
          "MedianAge",
          "MedianAge",
          "MedianAge",
          "MedianAge",
          "MedianAge",
          "MedianAge",
          "MedianAge",
          "MedianAge",
          "MedianAge",
          "MedianAge",
          "MedianAge",
          "MedianAge",
          "MedianAge",
          "MedianAge",
          "MedianAge",
          "MedianAge",
          "MedianAge",
          "MedianAge",
          "MedianAge",
          "MedianAge",
          "MedianAge",
          "MedianAge",
          "MedianAge",
          "MedianAge",
          "MedianAge",
          "MedianAge",
          "MedianAge",
          "MedianAge",
          "MedianAge",
          "MedianAge",
          "MedianAge",
          "MedianAge",
          "MedianAge",
          "MedianAge",
          "MedianAge",
          "MedianAge",
          "MedianAge",
          "MedianAge",
          "MedianAge",
          "MedianAge",
          "MedianAge",
          "MedianAge",
          "MedianAge",
          "MedianAge",
          "MedianAge",
          "MedianAge",
          "MedianAge",
          "MedianAge",
          "MedianAge",
          "MedianAge",
          "MedianAge",
          "MedianAge",
          "MedianAge",
          "MedianAge",
          "MedianAge",
          "MedianAge",
          "MedianAge",
          "MedianAge",
          "MedianAge",
          "MedianAge",
          "MedianAge",
          "MedianAge",
          "MedianAge",
          "MedianAge",
          "MedianAge",
          "MedianAge",
          "MedianAge",
          "MedianAge",
          "MedianAge",
          "MedianAge",
          "MedianAge",
          "MedianAge",
          "MedianAge",
          "MedianAge",
          "MedianAge",
          "MedianAge",
          "MedianAge",
          "MedianAge"
         ],
         "x0": " ",
         "xaxis": "x",
         "y": [
          25.4,
          63.5,
          72.9,
          66.7,
          26.2,
          92.8,
          62.8,
          43.6,
          85.9,
          57.3,
          56.2,
          86.1,
          89.3,
          39.4,
          31.2,
          98.3,
          46.1,
          48.4,
          45.8,
          69.3,
          72.8,
          87.6,
          79.5,
          30.6,
          13.8,
          68,
          24.2,
          56.3,
          81.3,
          43,
          23.3,
          29.8,
          84.8,
          60.8,
          80.4,
          29.4,
          69.9,
          80,
          78.3,
          88.7,
          66.8,
          51.3,
          45.6,
          88.2,
          79,
          84.5,
          63,
          43,
          73.4,
          73.3,
          63.3,
          30,
          21.3,
          59.1,
          86.1,
          81.5,
          87.3,
          64.1,
          87.1,
          59.4,
          58.1,
          56.7,
          35.5,
          94.9,
          51.8,
          38.6,
          44.9,
          26.9,
          56.9,
          57.3,
          94.4,
          35,
          56.4,
          75.5,
          73.1,
          63,
          93.2,
          55.4,
          91.5,
          57.7,
          27.8,
          57,
          35.6,
          35.7,
          78.4,
          31.5,
          52.6,
          78.2,
          88.2,
          38.5,
          18.5,
          78.4,
          34.5,
          44,
          93.2,
          91.6,
          56.9,
          40.8,
          45.8,
          83.8,
          68.2,
          67.2,
          67.6,
          63.8,
          38.3,
          31.4,
          55.2,
          21.4,
          92.5,
          71.9,
          86.9,
          57.2,
          16.5,
          52,
          62.5,
          58.6,
          83.4,
          87,
          35.1,
          68,
          13.1,
          61.6,
          79.1,
          47.5,
          96.2,
          17.6,
          99.8,
          18.6,
          18,
          74,
          84,
          49.4,
          56.2,
          43.3,
          98.56000291,
          53.7,
          55.2,
          23.2,
          46.8,
          66.7,
          81.8,
          24.6,
          18.4,
          52.9,
          80,
          35,
          65.1,
          88.2,
          74.1,
          60,
          78.9,
          27.3,
          37,
          51.1,
          32.8,
          43.3,
          24.3,
          52.4,
          70.1,
          75.7,
          52.5,
          96.3,
          25.7,
          86.4,
          83.2,
          82.8,
          96.1,
          50.1,
          24.4,
          98.36103859,
          37.7,
          86.8,
          38.4,
          45.3,
          38.4,
          18.4,
          36.4,
          28.5,
          16.7,
          34,
          31.5,
          35.4,
          41,
          37.9,
          43.5,
          32.3,
          32.3,
          32.5,
          27.6,
          40.5,
          41.9,
          25.5,
          18.8,
          28.1,
          25.6,
          24,
          33.5,
          32.3,
          17.6,
          17.3,
          27.6,
          25.6,
          18.7,
          41.1,
          17.6,
          16.6,
          42.6,
          35.3,
          38.4,
          31.3,
          20.4,
          19.2,
          33.5,
          42.2,
          41.6,
          37.3,
          18.9,
          17,
          42.3,
          26.6,
          28,
          27.9,
          24.6,
          27.6,
          22.3,
          19.2,
          20.7,
          19.5,
          27.9,
          43.1,
          42.3,
          25.1,
          33.6,
          22.5,
          17.8,
          38.3,
          21.5,
          32,
          31.4,
          22.9,
          18,
          18.8,
          26.7,
          24,
          24.3,
          37.5,
          28.4,
          29.7,
          32,
          21,
          38.2,
          30.5,
          30.7,
          23.8,
          30.7,
          20.1,
          23,
          26,
          24.4,
          29.6,
          24,
          19.4,
          28.8,
          39.7,
          19.6,
          18.1,
          30.3,
          29.9,
          16.3,
          42.6,
          47,
          20.1,
          37.5,
          20.1,
          29.2,
          25.8,
          28.2,
          38.8,
          29.5,
          17.6,
          29,
          21.8,
          24.6,
          43.3,
          33.6,
          38,
          26.5,
          15.2,
          18.1,
          35.3,
          39.1,
          39.8,
          30.6,
          22.8,
          29.7,
          22.4,
          26.3,
          31,
          25.7,
          32.3,
          20,
          35.9,
          34.5,
          21.8,
          18.6,
          31.8,
          18.5,
          34.2,
          19.4,
          42.2,
          41.2,
          44.5,
          19.9,
          16.7,
          27.6,
          43.7,
          19,
          34,
          32.9,
          20.8,
          19.7,
          29,
          41.1,
          43.1,
          25.6,
          42.5,
          22.4,
          18,
          40.1,
          20.8,
          19.4,
          22.4,
          36.2,
          32.8,
          31.5,
          26.9,
          42.6,
          16.7,
          32.6,
          40.5,
          38.3,
          35.8,
          27.8,
          21.1,
          29.6,
          32.5,
          28.4,
          20.2,
          17.6,
          18.7
         ],
         "y0": " ",
         "yaxis": "y"
        },
        {
         "alignmentgroup": "True",
         "box": {
          "visible": false
         },
         "hovertemplate": "Pop Decline=True<br>variable=%{x}<br>value=%{y}<extra></extra>",
         "legendgroup": "True",
         "marker": {
          "color": "#EF553B"
         },
         "name": "True",
         "offsetgroup": "True",
         "orientation": "v",
         "scalegroup": "True",
         "showlegend": true,
         "type": "violin",
         "x": [
          "UrbanPop%",
          "UrbanPop%",
          "UrbanPop%",
          "UrbanPop%",
          "UrbanPop%",
          "UrbanPop%",
          "UrbanPop%",
          "UrbanPop%",
          "UrbanPop%",
          "UrbanPop%",
          "UrbanPop%",
          "UrbanPop%",
          "UrbanPop%",
          "UrbanPop%",
          "UrbanPop%",
          "UrbanPop%",
          "UrbanPop%",
          "UrbanPop%",
          "UrbanPop%",
          "UrbanPop%",
          "UrbanPop%",
          "MedianAge",
          "MedianAge",
          "MedianAge",
          "MedianAge",
          "MedianAge",
          "MedianAge",
          "MedianAge",
          "MedianAge",
          "MedianAge",
          "MedianAge",
          "MedianAge",
          "MedianAge",
          "MedianAge",
          "MedianAge",
          "MedianAge",
          "MedianAge",
          "MedianAge",
          "MedianAge",
          "MedianAge",
          "MedianAge",
          "MedianAge"
         ],
         "x0": " ",
         "xaxis": "x",
         "y": [
          79.2,
          52.3,
          75.6,
          57.7,
          73.5,
          67.9,
          76.3,
          84.9,
          71.7,
          69.5,
          91.8,
          68.6,
          71.3,
          42.7,
          60.2,
          66.5,
          54.6,
          73.7,
          56.2,
          80.3,
          69.4,
          40.3,
          43.1,
          44.6,
          44.3,
          43.2,
          42.4,
          45.7,
          45.6,
          43.3,
          47.3,
          48.4,
          43.9,
          45.1,
          37.6,
          41.7,
          46.2,
          43.2,
          39.6,
          41.6,
          44.9,
          41.2
         ],
         "y0": " ",
         "yaxis": "y"
        }
       ],
       "layout": {
        "legend": {
         "title": {
          "text": "Pop Decline"
         },
         "tracegroupgap": 0
        },
        "margin": {
         "t": 60
        },
        "template": {
         "data": {
          "bar": [
           {
            "error_x": {
             "color": "#2a3f5f"
            },
            "error_y": {
             "color": "#2a3f5f"
            },
            "marker": {
             "line": {
              "color": "#E5ECF6",
              "width": 0.5
             },
             "pattern": {
              "fillmode": "overlay",
              "size": 10,
              "solidity": 0.2
             }
            },
            "type": "bar"
           }
          ],
          "barpolar": [
           {
            "marker": {
             "line": {
              "color": "#E5ECF6",
              "width": 0.5
             },
             "pattern": {
              "fillmode": "overlay",
              "size": 10,
              "solidity": 0.2
             }
            },
            "type": "barpolar"
           }
          ],
          "carpet": [
           {
            "aaxis": {
             "endlinecolor": "#2a3f5f",
             "gridcolor": "white",
             "linecolor": "white",
             "minorgridcolor": "white",
             "startlinecolor": "#2a3f5f"
            },
            "baxis": {
             "endlinecolor": "#2a3f5f",
             "gridcolor": "white",
             "linecolor": "white",
             "minorgridcolor": "white",
             "startlinecolor": "#2a3f5f"
            },
            "type": "carpet"
           }
          ],
          "choropleth": [
           {
            "colorbar": {
             "outlinewidth": 0,
             "ticks": ""
            },
            "type": "choropleth"
           }
          ],
          "contour": [
           {
            "colorbar": {
             "outlinewidth": 0,
             "ticks": ""
            },
            "colorscale": [
             [
              0,
              "#0d0887"
             ],
             [
              0.1111111111111111,
              "#46039f"
             ],
             [
              0.2222222222222222,
              "#7201a8"
             ],
             [
              0.3333333333333333,
              "#9c179e"
             ],
             [
              0.4444444444444444,
              "#bd3786"
             ],
             [
              0.5555555555555556,
              "#d8576b"
             ],
             [
              0.6666666666666666,
              "#ed7953"
             ],
             [
              0.7777777777777778,
              "#fb9f3a"
             ],
             [
              0.8888888888888888,
              "#fdca26"
             ],
             [
              1,
              "#f0f921"
             ]
            ],
            "type": "contour"
           }
          ],
          "contourcarpet": [
           {
            "colorbar": {
             "outlinewidth": 0,
             "ticks": ""
            },
            "type": "contourcarpet"
           }
          ],
          "heatmap": [
           {
            "colorbar": {
             "outlinewidth": 0,
             "ticks": ""
            },
            "colorscale": [
             [
              0,
              "#0d0887"
             ],
             [
              0.1111111111111111,
              "#46039f"
             ],
             [
              0.2222222222222222,
              "#7201a8"
             ],
             [
              0.3333333333333333,
              "#9c179e"
             ],
             [
              0.4444444444444444,
              "#bd3786"
             ],
             [
              0.5555555555555556,
              "#d8576b"
             ],
             [
              0.6666666666666666,
              "#ed7953"
             ],
             [
              0.7777777777777778,
              "#fb9f3a"
             ],
             [
              0.8888888888888888,
              "#fdca26"
             ],
             [
              1,
              "#f0f921"
             ]
            ],
            "type": "heatmap"
           }
          ],
          "heatmapgl": [
           {
            "colorbar": {
             "outlinewidth": 0,
             "ticks": ""
            },
            "colorscale": [
             [
              0,
              "#0d0887"
             ],
             [
              0.1111111111111111,
              "#46039f"
             ],
             [
              0.2222222222222222,
              "#7201a8"
             ],
             [
              0.3333333333333333,
              "#9c179e"
             ],
             [
              0.4444444444444444,
              "#bd3786"
             ],
             [
              0.5555555555555556,
              "#d8576b"
             ],
             [
              0.6666666666666666,
              "#ed7953"
             ],
             [
              0.7777777777777778,
              "#fb9f3a"
             ],
             [
              0.8888888888888888,
              "#fdca26"
             ],
             [
              1,
              "#f0f921"
             ]
            ],
            "type": "heatmapgl"
           }
          ],
          "histogram": [
           {
            "marker": {
             "pattern": {
              "fillmode": "overlay",
              "size": 10,
              "solidity": 0.2
             }
            },
            "type": "histogram"
           }
          ],
          "histogram2d": [
           {
            "colorbar": {
             "outlinewidth": 0,
             "ticks": ""
            },
            "colorscale": [
             [
              0,
              "#0d0887"
             ],
             [
              0.1111111111111111,
              "#46039f"
             ],
             [
              0.2222222222222222,
              "#7201a8"
             ],
             [
              0.3333333333333333,
              "#9c179e"
             ],
             [
              0.4444444444444444,
              "#bd3786"
             ],
             [
              0.5555555555555556,
              "#d8576b"
             ],
             [
              0.6666666666666666,
              "#ed7953"
             ],
             [
              0.7777777777777778,
              "#fb9f3a"
             ],
             [
              0.8888888888888888,
              "#fdca26"
             ],
             [
              1,
              "#f0f921"
             ]
            ],
            "type": "histogram2d"
           }
          ],
          "histogram2dcontour": [
           {
            "colorbar": {
             "outlinewidth": 0,
             "ticks": ""
            },
            "colorscale": [
             [
              0,
              "#0d0887"
             ],
             [
              0.1111111111111111,
              "#46039f"
             ],
             [
              0.2222222222222222,
              "#7201a8"
             ],
             [
              0.3333333333333333,
              "#9c179e"
             ],
             [
              0.4444444444444444,
              "#bd3786"
             ],
             [
              0.5555555555555556,
              "#d8576b"
             ],
             [
              0.6666666666666666,
              "#ed7953"
             ],
             [
              0.7777777777777778,
              "#fb9f3a"
             ],
             [
              0.8888888888888888,
              "#fdca26"
             ],
             [
              1,
              "#f0f921"
             ]
            ],
            "type": "histogram2dcontour"
           }
          ],
          "mesh3d": [
           {
            "colorbar": {
             "outlinewidth": 0,
             "ticks": ""
            },
            "type": "mesh3d"
           }
          ],
          "parcoords": [
           {
            "line": {
             "colorbar": {
              "outlinewidth": 0,
              "ticks": ""
             }
            },
            "type": "parcoords"
           }
          ],
          "pie": [
           {
            "automargin": true,
            "type": "pie"
           }
          ],
          "scatter": [
           {
            "fillpattern": {
             "fillmode": "overlay",
             "size": 10,
             "solidity": 0.2
            },
            "type": "scatter"
           }
          ],
          "scatter3d": [
           {
            "line": {
             "colorbar": {
              "outlinewidth": 0,
              "ticks": ""
             }
            },
            "marker": {
             "colorbar": {
              "outlinewidth": 0,
              "ticks": ""
             }
            },
            "type": "scatter3d"
           }
          ],
          "scattercarpet": [
           {
            "marker": {
             "colorbar": {
              "outlinewidth": 0,
              "ticks": ""
             }
            },
            "type": "scattercarpet"
           }
          ],
          "scattergeo": [
           {
            "marker": {
             "colorbar": {
              "outlinewidth": 0,
              "ticks": ""
             }
            },
            "type": "scattergeo"
           }
          ],
          "scattergl": [
           {
            "marker": {
             "colorbar": {
              "outlinewidth": 0,
              "ticks": ""
             }
            },
            "type": "scattergl"
           }
          ],
          "scattermapbox": [
           {
            "marker": {
             "colorbar": {
              "outlinewidth": 0,
              "ticks": ""
             }
            },
            "type": "scattermapbox"
           }
          ],
          "scatterpolar": [
           {
            "marker": {
             "colorbar": {
              "outlinewidth": 0,
              "ticks": ""
             }
            },
            "type": "scatterpolar"
           }
          ],
          "scatterpolargl": [
           {
            "marker": {
             "colorbar": {
              "outlinewidth": 0,
              "ticks": ""
             }
            },
            "type": "scatterpolargl"
           }
          ],
          "scatterternary": [
           {
            "marker": {
             "colorbar": {
              "outlinewidth": 0,
              "ticks": ""
             }
            },
            "type": "scatterternary"
           }
          ],
          "surface": [
           {
            "colorbar": {
             "outlinewidth": 0,
             "ticks": ""
            },
            "colorscale": [
             [
              0,
              "#0d0887"
             ],
             [
              0.1111111111111111,
              "#46039f"
             ],
             [
              0.2222222222222222,
              "#7201a8"
             ],
             [
              0.3333333333333333,
              "#9c179e"
             ],
             [
              0.4444444444444444,
              "#bd3786"
             ],
             [
              0.5555555555555556,
              "#d8576b"
             ],
             [
              0.6666666666666666,
              "#ed7953"
             ],
             [
              0.7777777777777778,
              "#fb9f3a"
             ],
             [
              0.8888888888888888,
              "#fdca26"
             ],
             [
              1,
              "#f0f921"
             ]
            ],
            "type": "surface"
           }
          ],
          "table": [
           {
            "cells": {
             "fill": {
              "color": "#EBF0F8"
             },
             "line": {
              "color": "white"
             }
            },
            "header": {
             "fill": {
              "color": "#C8D4E3"
             },
             "line": {
              "color": "white"
             }
            },
            "type": "table"
           }
          ]
         },
         "layout": {
          "annotationdefaults": {
           "arrowcolor": "#2a3f5f",
           "arrowhead": 0,
           "arrowwidth": 1
          },
          "autotypenumbers": "strict",
          "coloraxis": {
           "colorbar": {
            "outlinewidth": 0,
            "ticks": ""
           }
          },
          "colorscale": {
           "diverging": [
            [
             0,
             "#8e0152"
            ],
            [
             0.1,
             "#c51b7d"
            ],
            [
             0.2,
             "#de77ae"
            ],
            [
             0.3,
             "#f1b6da"
            ],
            [
             0.4,
             "#fde0ef"
            ],
            [
             0.5,
             "#f7f7f7"
            ],
            [
             0.6,
             "#e6f5d0"
            ],
            [
             0.7,
             "#b8e186"
            ],
            [
             0.8,
             "#7fbc41"
            ],
            [
             0.9,
             "#4d9221"
            ],
            [
             1,
             "#276419"
            ]
           ],
           "sequential": [
            [
             0,
             "#0d0887"
            ],
            [
             0.1111111111111111,
             "#46039f"
            ],
            [
             0.2222222222222222,
             "#7201a8"
            ],
            [
             0.3333333333333333,
             "#9c179e"
            ],
            [
             0.4444444444444444,
             "#bd3786"
            ],
            [
             0.5555555555555556,
             "#d8576b"
            ],
            [
             0.6666666666666666,
             "#ed7953"
            ],
            [
             0.7777777777777778,
             "#fb9f3a"
            ],
            [
             0.8888888888888888,
             "#fdca26"
            ],
            [
             1,
             "#f0f921"
            ]
           ],
           "sequentialminus": [
            [
             0,
             "#0d0887"
            ],
            [
             0.1111111111111111,
             "#46039f"
            ],
            [
             0.2222222222222222,
             "#7201a8"
            ],
            [
             0.3333333333333333,
             "#9c179e"
            ],
            [
             0.4444444444444444,
             "#bd3786"
            ],
            [
             0.5555555555555556,
             "#d8576b"
            ],
            [
             0.6666666666666666,
             "#ed7953"
            ],
            [
             0.7777777777777778,
             "#fb9f3a"
            ],
            [
             0.8888888888888888,
             "#fdca26"
            ],
            [
             1,
             "#f0f921"
            ]
           ]
          },
          "colorway": [
           "#636efa",
           "#EF553B",
           "#00cc96",
           "#ab63fa",
           "#FFA15A",
           "#19d3f3",
           "#FF6692",
           "#B6E880",
           "#FF97FF",
           "#FECB52"
          ],
          "font": {
           "color": "#2a3f5f"
          },
          "geo": {
           "bgcolor": "white",
           "lakecolor": "white",
           "landcolor": "#E5ECF6",
           "showlakes": true,
           "showland": true,
           "subunitcolor": "white"
          },
          "hoverlabel": {
           "align": "left"
          },
          "hovermode": "closest",
          "mapbox": {
           "style": "light"
          },
          "paper_bgcolor": "white",
          "plot_bgcolor": "#E5ECF6",
          "polar": {
           "angularaxis": {
            "gridcolor": "white",
            "linecolor": "white",
            "ticks": ""
           },
           "bgcolor": "#E5ECF6",
           "radialaxis": {
            "gridcolor": "white",
            "linecolor": "white",
            "ticks": ""
           }
          },
          "scene": {
           "xaxis": {
            "backgroundcolor": "#E5ECF6",
            "gridcolor": "white",
            "gridwidth": 2,
            "linecolor": "white",
            "showbackground": true,
            "ticks": "",
            "zerolinecolor": "white"
           },
           "yaxis": {
            "backgroundcolor": "#E5ECF6",
            "gridcolor": "white",
            "gridwidth": 2,
            "linecolor": "white",
            "showbackground": true,
            "ticks": "",
            "zerolinecolor": "white"
           },
           "zaxis": {
            "backgroundcolor": "#E5ECF6",
            "gridcolor": "white",
            "gridwidth": 2,
            "linecolor": "white",
            "showbackground": true,
            "ticks": "",
            "zerolinecolor": "white"
           }
          },
          "shapedefaults": {
           "line": {
            "color": "#2a3f5f"
           }
          },
          "ternary": {
           "aaxis": {
            "gridcolor": "white",
            "linecolor": "white",
            "ticks": ""
           },
           "baxis": {
            "gridcolor": "white",
            "linecolor": "white",
            "ticks": ""
           },
           "bgcolor": "#E5ECF6",
           "caxis": {
            "gridcolor": "white",
            "linecolor": "white",
            "ticks": ""
           }
          },
          "title": {
           "x": 0.05
          },
          "xaxis": {
           "automargin": true,
           "gridcolor": "white",
           "linecolor": "white",
           "ticks": "",
           "title": {
            "standoff": 15
           },
           "zerolinecolor": "white",
           "zerolinewidth": 2
          },
          "yaxis": {
           "automargin": true,
           "gridcolor": "white",
           "linecolor": "white",
           "ticks": "",
           "title": {
            "standoff": 15
           },
           "zerolinecolor": "white",
           "zerolinewidth": 2
          }
         }
        },
        "violinmode": "group",
        "xaxis": {
         "anchor": "y",
         "domain": [
          0,
          1
         ],
         "title": {
          "text": "variable"
         }
        },
        "yaxis": {
         "anchor": "x",
         "domain": [
          0,
          1
         ],
         "range": [
          0,
          100
         ],
         "title": {
          "text": "value"
         }
        }
       }
      }
     },
     "metadata": {},
     "output_type": "display_data"
    }
   ],
   "source": [
    "df = df[(df[\"UrbanPop%\"] != 0) & (df[\"MedianAge\"] != 0) & (df[\"UrbanPop%\"] < 100)]\n",
    "fig = px.violin(data_frame=df[df[\"Year\"] == 2020], y=[\"UrbanPop%\", \"MedianAge\"], color= (df[df[\"Year\"] == 2020]['Country'].isin(declinelist).astype('bool')), labels= {\"color\": \"Pop Decline\"}, range_y= [0,100] )\n",
    "fig.show()\n"
   ]
  },
  {
   "attachments": {},
   "cell_type": "markdown",
   "metadata": {},
   "source": [
    "The countries which experience population decline are more urbanized and older than the group that didn't experience decline, on average. Age, while highly correlated, would be problematic for determining causality. However, it still does raise an interesting question: some countries nearly as old, and even more urbanized experienced population decline. Why?"
   ]
  },
  {
   "cell_type": "code",
   "execution_count": 456,
   "metadata": {},
   "outputs": [
    {
     "data": {
      "application/vnd.plotly.v1+json": {
       "config": {
        "plotlyServerURL": "https://plot.ly"
       },
       "data": [
        {
         "alignmentgroup": "True",
         "box": {
          "visible": false
         },
         "hovertemplate": "Pop Decline=False<br>variable=%{x}<br>value=%{y}<extra></extra>",
         "legendgroup": "False",
         "marker": {
          "color": "#636efa"
         },
         "name": "False",
         "offsetgroup": "False",
         "orientation": "v",
         "scalegroup": "True",
         "showlegend": true,
         "type": "violin",
         "x": [
          "Migrants%",
          "Migrants%",
          "Migrants%",
          "Migrants%",
          "Migrants%",
          "Migrants%",
          "Migrants%",
          "Migrants%",
          "Migrants%",
          "Migrants%",
          "Migrants%",
          "Migrants%",
          "Migrants%",
          "Migrants%",
          "Migrants%",
          "Migrants%",
          "Migrants%",
          "Migrants%",
          "Migrants%",
          "Migrants%",
          "Migrants%",
          "Migrants%",
          "Migrants%",
          "Migrants%",
          "Migrants%",
          "Migrants%",
          "Migrants%",
          "Migrants%",
          "Migrants%",
          "Migrants%",
          "Migrants%",
          "Migrants%",
          "Migrants%",
          "Migrants%",
          "Migrants%",
          "Migrants%",
          "Migrants%",
          "Migrants%",
          "Migrants%",
          "Migrants%",
          "Migrants%",
          "Migrants%",
          "Migrants%",
          "Migrants%",
          "Migrants%",
          "Migrants%",
          "Migrants%",
          "Migrants%",
          "Migrants%",
          "Migrants%",
          "Migrants%",
          "Migrants%",
          "Migrants%",
          "Migrants%",
          "Migrants%",
          "Migrants%",
          "Migrants%",
          "Migrants%",
          "Migrants%",
          "Migrants%",
          "Migrants%",
          "Migrants%",
          "Migrants%",
          "Migrants%",
          "Migrants%",
          "Migrants%",
          "Migrants%",
          "Migrants%",
          "Migrants%",
          "Migrants%",
          "Migrants%",
          "Migrants%",
          "Migrants%",
          "Migrants%",
          "Migrants%",
          "Migrants%",
          "Migrants%",
          "Migrants%",
          "Migrants%",
          "Migrants%",
          "Migrants%",
          "Migrants%",
          "Migrants%",
          "Migrants%",
          "Migrants%",
          "Migrants%",
          "Migrants%",
          "Migrants%",
          "Migrants%",
          "Migrants%",
          "Migrants%",
          "Migrants%",
          "Migrants%",
          "Migrants%",
          "Migrants%",
          "Migrants%",
          "Migrants%",
          "Migrants%",
          "Migrants%",
          "Migrants%",
          "Migrants%",
          "Migrants%",
          "Migrants%",
          "Migrants%",
          "Migrants%",
          "Migrants%",
          "Migrants%",
          "Migrants%",
          "Migrants%",
          "Migrants%",
          "Migrants%",
          "Migrants%",
          "Migrants%",
          "Migrants%",
          "Migrants%",
          "Migrants%",
          "Migrants%",
          "Migrants%",
          "Migrants%",
          "Migrants%",
          "Migrants%",
          "Migrants%",
          "Migrants%",
          "Migrants%",
          "Migrants%",
          "Migrants%",
          "Migrants%",
          "Migrants%",
          "Migrants%",
          "Migrants%",
          "Migrants%",
          "Migrants%",
          "Migrants%",
          "Migrants%",
          "Migrants%",
          "Migrants%",
          "Migrants%",
          "Migrants%",
          "Migrants%",
          "Migrants%",
          "Migrants%",
          "Migrants%",
          "Migrants%",
          "Migrants%",
          "Migrants%",
          "Migrants%",
          "Migrants%",
          "Migrants%",
          "Migrants%",
          "Migrants%",
          "Migrants%",
          "Migrants%",
          "Migrants%",
          "Migrants%",
          "Migrants%",
          "Migrants%",
          "Migrants%",
          "Migrants%",
          "Migrants%",
          "Migrants%",
          "Migrants%",
          "Migrants%",
          "Migrants%",
          "Migrants%",
          "Migrants%",
          "Migrants%",
          "Migrants%",
          "Migrants%",
          "Migrants%",
          "Migrants%",
          "Migrants%",
          "Migrants%",
          "Migrants%",
          "Migrants%",
          "Migrants%",
          "Migrants%"
         ],
         "x0": " ",
         "xaxis": "x",
         "y": [
          0.30323474121555943,
          -0.9450917536091344,
          -0.07212540769393898,
          0.11925314031536151,
          0.20199645170254152,
          0.013929058746641007,
          -0.20874685914081884,
          0.24055740313012144,
          0.8268044853814281,
          0.6156941278953203,
          0.01766647666544214,
          0.2672324869189697,
          0.6123113953337498,
          -0.295263660321714,
          -0.027687821564256775,
          0.4583121455287679,
          0.42085373185605085,
          -0.07993606627564119,
          0.008243162296874742,
          -0.10601919274903793,
          -0.6897670409427759,
          0.001557672247653905,
          -0.04338321599780191,
          -0.13804052251319446,
          -0.13779486871593882,
          -0.3060545829101103,
          -0.19328108559027657,
          -0.030903452121625,
          0.6891643292320391,
          -1.7632540055239394,
          0.14173365058048787,
          0.4317199262327297,
          0.18223249329010344,
          -0.02206649394152333,
          -0.08138774651458491,
          -0.2572598736339501,
          -0.2471121343383933,
          0.08110888971583835,
          -0.14128308529763178,
          0.8526903851808291,
          0.3877741745156053,
          -0.06888789068421734,
          0.003950446605071178,
          0.3756221769667736,
          0.1312920339652492,
          -0.2976167318959548,
          -0.04687879733679085,
          -0.060782617770148636,
          -0.7601906302548377,
          1.5403468176434747,
          -1.4718121058340596,
          -0.7565821652035607,
          0.07933617954112927,
          -1.1961405758743395,
          0.2970742121777256,
          0.1315155802970217,
          -0.08084322162153879,
          -0.5869129040289393,
          1.0300941732907667,
          -0.14799650983287468,
          -0.47383531017351843,
          -0.03590766774132331,
          -0.18248341681949654,
          -0.9385059282188157,
          -0.06168924042061651,
          -0.513904371624851,
          -0.08064692534316677,
          -0.9121329316473642,
          -0.2804906941602398,
          -0.06584061567120778,
          -0.13111557247239156,
          -0.03587483402112266,
          -0.03517604097380056,
          -0.1279986811430917,
          0.7329334505894916,
          -0.48069555124478097,
          0.048868896244778144,
          -0.3919722478667571,
          2.280799540283222,
          0.18188578931410032,
          -0.02088627307348359,
          -0.7437122509690796,
          -0.3133180212316548,
          -0.3332213843187912,
          3.650432487258671,
          -0.46337555566456096,
          0.11180104779941998,
          -0.9348247943580208,
          1.7187745372224703,
          1.4067781127249475,
          -0.006189628427527374,
          -0.09586568842618136,
          0.1651747968895075,
          2.5657540419638836,
          -0.346870635086931,
          0.7152429081163117,
          -1.1961065108143671,
          0.12356965040415926,
          -0.19182885309212866,
          -0.12498958420131656,
          -0.06933875585190132,
          -0.8796336134775167,
          -0.02841478515987819,
          -0.09920951390528204,
          -0.2118129497386639,
          -0.018489755307317855,
          -0.20053254391368866,
          -0.31997007219305856,
          -1.5104480168836378,
          0.07401482268293076,
          0.22171803810894067,
          0.3939511092349126,
          -0.43392187992107006,
          0.018908427764231406,
          -0.033124017514037186,
          -0.0214542401071354,
          -0.08517174779544161,
          0.8531615227864879,
          4.151430818391188,
          -0.10822658865728908,
          0.14164088228082894,
          -0.009867072038876264,
          -0.2605271600984699,
          -0.4101049879533588,
          -0.16346954202165337,
          4.714874245335599,
          -0.19015625814985235,
          -0.327556311771526,
          0,
          -1.2598636784092025,
          -0.8423923944000963,
          1.0863377814011352,
          -0.29358384174898045,
          -0.21057508054496832,
          -0.058561773049704724,
          1.133838994362099,
          0.0417432373287934,
          0.16000393974697746,
          -0.2652880530841394,
          -0.3383367394589671,
          0.3321015801596086,
          0.15787508249448728,
          -0.18664276146177866,
          -0.4637166385905279,
          -0.5378018836808737,
          -0.6935713992377405,
          -0.27666025327128146,
          -0.1788451254866823,
          0.520146032493766,
          0.9576371541954555,
          -5.9864009306228985,
          0.1443278497098819,
          -0.3240467147731235,
          -0.09728911883741455,
          0.048698592936214015,
          -0.46861076885268105,
          -0.027296966691146087,
          -2.5778668598247685,
          -0.05838018343053634,
          -0.2683375389279504,
          0.4490241356585276,
          -0.17968525253055234,
          -0.8574858514834506,
          -0.15696086060772124,
          0.5829707758909197,
          0.39484576909380065,
          0.3092583602799454,
          -0.17584947753654812,
          -0.042981540278769596,
          0.13167115405893853,
          -0.2865783194233303,
          -0.08632123870632259,
          0.10870060963558689,
          -0.05661583079316243,
          -0.06297482625402873,
          -0.9019351876912511
         ],
         "y0": " ",
         "yaxis": "y"
        },
        {
         "alignmentgroup": "True",
         "box": {
          "visible": false
         },
         "hovertemplate": "Pop Decline=True<br>variable=%{x}<br>value=%{y}<extra></extra>",
         "legendgroup": "True",
         "marker": {
          "color": "#EF553B"
         },
         "name": "True",
         "offsetgroup": "True",
         "orientation": "v",
         "scalegroup": "True",
         "showlegend": true,
         "type": "violin",
         "x": [
          "Migrants%",
          "Migrants%",
          "Migrants%",
          "Migrants%",
          "Migrants%",
          "Migrants%",
          "Migrants%",
          "Migrants%",
          "Migrants%",
          "Migrants%",
          "Migrants%",
          "Migrants%",
          "Migrants%",
          "Migrants%",
          "Migrants%",
          "Migrants%",
          "Migrants%",
          "Migrants%",
          "Migrants%",
          "Migrants%",
          "Migrants%"
         ],
         "x0": " ",
         "xaxis": "x",
         "y": [
          0.15281654397731725,
          -1.5077444456853624,
          -0.0679746674220642,
          -0.18188587706603124,
          0.11318319651645911,
          -0.15988443920704007,
          0.4740521741176035,
          -0.3035718473697788,
          0.061362724987709553,
          0.540577981354241,
          0.055965094008223595,
          -0.8342201980903791,
          -0.9974146281566777,
          -0.034490382489498116,
          -0.16869344989266075,
          -0.27005258598980686,
          -0.30112658985429236,
          0.24838421796806276,
          0.06660074934855297,
          -0.22302057986636334,
          0.05883801345716704
         ],
         "y0": " ",
         "yaxis": "y"
        }
       ],
       "layout": {
        "legend": {
         "title": {
          "text": "Pop Decline"
         },
         "tracegroupgap": 0
        },
        "margin": {
         "t": 60
        },
        "template": {
         "data": {
          "bar": [
           {
            "error_x": {
             "color": "#2a3f5f"
            },
            "error_y": {
             "color": "#2a3f5f"
            },
            "marker": {
             "line": {
              "color": "#E5ECF6",
              "width": 0.5
             },
             "pattern": {
              "fillmode": "overlay",
              "size": 10,
              "solidity": 0.2
             }
            },
            "type": "bar"
           }
          ],
          "barpolar": [
           {
            "marker": {
             "line": {
              "color": "#E5ECF6",
              "width": 0.5
             },
             "pattern": {
              "fillmode": "overlay",
              "size": 10,
              "solidity": 0.2
             }
            },
            "type": "barpolar"
           }
          ],
          "carpet": [
           {
            "aaxis": {
             "endlinecolor": "#2a3f5f",
             "gridcolor": "white",
             "linecolor": "white",
             "minorgridcolor": "white",
             "startlinecolor": "#2a3f5f"
            },
            "baxis": {
             "endlinecolor": "#2a3f5f",
             "gridcolor": "white",
             "linecolor": "white",
             "minorgridcolor": "white",
             "startlinecolor": "#2a3f5f"
            },
            "type": "carpet"
           }
          ],
          "choropleth": [
           {
            "colorbar": {
             "outlinewidth": 0,
             "ticks": ""
            },
            "type": "choropleth"
           }
          ],
          "contour": [
           {
            "colorbar": {
             "outlinewidth": 0,
             "ticks": ""
            },
            "colorscale": [
             [
              0,
              "#0d0887"
             ],
             [
              0.1111111111111111,
              "#46039f"
             ],
             [
              0.2222222222222222,
              "#7201a8"
             ],
             [
              0.3333333333333333,
              "#9c179e"
             ],
             [
              0.4444444444444444,
              "#bd3786"
             ],
             [
              0.5555555555555556,
              "#d8576b"
             ],
             [
              0.6666666666666666,
              "#ed7953"
             ],
             [
              0.7777777777777778,
              "#fb9f3a"
             ],
             [
              0.8888888888888888,
              "#fdca26"
             ],
             [
              1,
              "#f0f921"
             ]
            ],
            "type": "contour"
           }
          ],
          "contourcarpet": [
           {
            "colorbar": {
             "outlinewidth": 0,
             "ticks": ""
            },
            "type": "contourcarpet"
           }
          ],
          "heatmap": [
           {
            "colorbar": {
             "outlinewidth": 0,
             "ticks": ""
            },
            "colorscale": [
             [
              0,
              "#0d0887"
             ],
             [
              0.1111111111111111,
              "#46039f"
             ],
             [
              0.2222222222222222,
              "#7201a8"
             ],
             [
              0.3333333333333333,
              "#9c179e"
             ],
             [
              0.4444444444444444,
              "#bd3786"
             ],
             [
              0.5555555555555556,
              "#d8576b"
             ],
             [
              0.6666666666666666,
              "#ed7953"
             ],
             [
              0.7777777777777778,
              "#fb9f3a"
             ],
             [
              0.8888888888888888,
              "#fdca26"
             ],
             [
              1,
              "#f0f921"
             ]
            ],
            "type": "heatmap"
           }
          ],
          "heatmapgl": [
           {
            "colorbar": {
             "outlinewidth": 0,
             "ticks": ""
            },
            "colorscale": [
             [
              0,
              "#0d0887"
             ],
             [
              0.1111111111111111,
              "#46039f"
             ],
             [
              0.2222222222222222,
              "#7201a8"
             ],
             [
              0.3333333333333333,
              "#9c179e"
             ],
             [
              0.4444444444444444,
              "#bd3786"
             ],
             [
              0.5555555555555556,
              "#d8576b"
             ],
             [
              0.6666666666666666,
              "#ed7953"
             ],
             [
              0.7777777777777778,
              "#fb9f3a"
             ],
             [
              0.8888888888888888,
              "#fdca26"
             ],
             [
              1,
              "#f0f921"
             ]
            ],
            "type": "heatmapgl"
           }
          ],
          "histogram": [
           {
            "marker": {
             "pattern": {
              "fillmode": "overlay",
              "size": 10,
              "solidity": 0.2
             }
            },
            "type": "histogram"
           }
          ],
          "histogram2d": [
           {
            "colorbar": {
             "outlinewidth": 0,
             "ticks": ""
            },
            "colorscale": [
             [
              0,
              "#0d0887"
             ],
             [
              0.1111111111111111,
              "#46039f"
             ],
             [
              0.2222222222222222,
              "#7201a8"
             ],
             [
              0.3333333333333333,
              "#9c179e"
             ],
             [
              0.4444444444444444,
              "#bd3786"
             ],
             [
              0.5555555555555556,
              "#d8576b"
             ],
             [
              0.6666666666666666,
              "#ed7953"
             ],
             [
              0.7777777777777778,
              "#fb9f3a"
             ],
             [
              0.8888888888888888,
              "#fdca26"
             ],
             [
              1,
              "#f0f921"
             ]
            ],
            "type": "histogram2d"
           }
          ],
          "histogram2dcontour": [
           {
            "colorbar": {
             "outlinewidth": 0,
             "ticks": ""
            },
            "colorscale": [
             [
              0,
              "#0d0887"
             ],
             [
              0.1111111111111111,
              "#46039f"
             ],
             [
              0.2222222222222222,
              "#7201a8"
             ],
             [
              0.3333333333333333,
              "#9c179e"
             ],
             [
              0.4444444444444444,
              "#bd3786"
             ],
             [
              0.5555555555555556,
              "#d8576b"
             ],
             [
              0.6666666666666666,
              "#ed7953"
             ],
             [
              0.7777777777777778,
              "#fb9f3a"
             ],
             [
              0.8888888888888888,
              "#fdca26"
             ],
             [
              1,
              "#f0f921"
             ]
            ],
            "type": "histogram2dcontour"
           }
          ],
          "mesh3d": [
           {
            "colorbar": {
             "outlinewidth": 0,
             "ticks": ""
            },
            "type": "mesh3d"
           }
          ],
          "parcoords": [
           {
            "line": {
             "colorbar": {
              "outlinewidth": 0,
              "ticks": ""
             }
            },
            "type": "parcoords"
           }
          ],
          "pie": [
           {
            "automargin": true,
            "type": "pie"
           }
          ],
          "scatter": [
           {
            "fillpattern": {
             "fillmode": "overlay",
             "size": 10,
             "solidity": 0.2
            },
            "type": "scatter"
           }
          ],
          "scatter3d": [
           {
            "line": {
             "colorbar": {
              "outlinewidth": 0,
              "ticks": ""
             }
            },
            "marker": {
             "colorbar": {
              "outlinewidth": 0,
              "ticks": ""
             }
            },
            "type": "scatter3d"
           }
          ],
          "scattercarpet": [
           {
            "marker": {
             "colorbar": {
              "outlinewidth": 0,
              "ticks": ""
             }
            },
            "type": "scattercarpet"
           }
          ],
          "scattergeo": [
           {
            "marker": {
             "colorbar": {
              "outlinewidth": 0,
              "ticks": ""
             }
            },
            "type": "scattergeo"
           }
          ],
          "scattergl": [
           {
            "marker": {
             "colorbar": {
              "outlinewidth": 0,
              "ticks": ""
             }
            },
            "type": "scattergl"
           }
          ],
          "scattermapbox": [
           {
            "marker": {
             "colorbar": {
              "outlinewidth": 0,
              "ticks": ""
             }
            },
            "type": "scattermapbox"
           }
          ],
          "scatterpolar": [
           {
            "marker": {
             "colorbar": {
              "outlinewidth": 0,
              "ticks": ""
             }
            },
            "type": "scatterpolar"
           }
          ],
          "scatterpolargl": [
           {
            "marker": {
             "colorbar": {
              "outlinewidth": 0,
              "ticks": ""
             }
            },
            "type": "scatterpolargl"
           }
          ],
          "scatterternary": [
           {
            "marker": {
             "colorbar": {
              "outlinewidth": 0,
              "ticks": ""
             }
            },
            "type": "scatterternary"
           }
          ],
          "surface": [
           {
            "colorbar": {
             "outlinewidth": 0,
             "ticks": ""
            },
            "colorscale": [
             [
              0,
              "#0d0887"
             ],
             [
              0.1111111111111111,
              "#46039f"
             ],
             [
              0.2222222222222222,
              "#7201a8"
             ],
             [
              0.3333333333333333,
              "#9c179e"
             ],
             [
              0.4444444444444444,
              "#bd3786"
             ],
             [
              0.5555555555555556,
              "#d8576b"
             ],
             [
              0.6666666666666666,
              "#ed7953"
             ],
             [
              0.7777777777777778,
              "#fb9f3a"
             ],
             [
              0.8888888888888888,
              "#fdca26"
             ],
             [
              1,
              "#f0f921"
             ]
            ],
            "type": "surface"
           }
          ],
          "table": [
           {
            "cells": {
             "fill": {
              "color": "#EBF0F8"
             },
             "line": {
              "color": "white"
             }
            },
            "header": {
             "fill": {
              "color": "#C8D4E3"
             },
             "line": {
              "color": "white"
             }
            },
            "type": "table"
           }
          ]
         },
         "layout": {
          "annotationdefaults": {
           "arrowcolor": "#2a3f5f",
           "arrowhead": 0,
           "arrowwidth": 1
          },
          "autotypenumbers": "strict",
          "coloraxis": {
           "colorbar": {
            "outlinewidth": 0,
            "ticks": ""
           }
          },
          "colorscale": {
           "diverging": [
            [
             0,
             "#8e0152"
            ],
            [
             0.1,
             "#c51b7d"
            ],
            [
             0.2,
             "#de77ae"
            ],
            [
             0.3,
             "#f1b6da"
            ],
            [
             0.4,
             "#fde0ef"
            ],
            [
             0.5,
             "#f7f7f7"
            ],
            [
             0.6,
             "#e6f5d0"
            ],
            [
             0.7,
             "#b8e186"
            ],
            [
             0.8,
             "#7fbc41"
            ],
            [
             0.9,
             "#4d9221"
            ],
            [
             1,
             "#276419"
            ]
           ],
           "sequential": [
            [
             0,
             "#0d0887"
            ],
            [
             0.1111111111111111,
             "#46039f"
            ],
            [
             0.2222222222222222,
             "#7201a8"
            ],
            [
             0.3333333333333333,
             "#9c179e"
            ],
            [
             0.4444444444444444,
             "#bd3786"
            ],
            [
             0.5555555555555556,
             "#d8576b"
            ],
            [
             0.6666666666666666,
             "#ed7953"
            ],
            [
             0.7777777777777778,
             "#fb9f3a"
            ],
            [
             0.8888888888888888,
             "#fdca26"
            ],
            [
             1,
             "#f0f921"
            ]
           ],
           "sequentialminus": [
            [
             0,
             "#0d0887"
            ],
            [
             0.1111111111111111,
             "#46039f"
            ],
            [
             0.2222222222222222,
             "#7201a8"
            ],
            [
             0.3333333333333333,
             "#9c179e"
            ],
            [
             0.4444444444444444,
             "#bd3786"
            ],
            [
             0.5555555555555556,
             "#d8576b"
            ],
            [
             0.6666666666666666,
             "#ed7953"
            ],
            [
             0.7777777777777778,
             "#fb9f3a"
            ],
            [
             0.8888888888888888,
             "#fdca26"
            ],
            [
             1,
             "#f0f921"
            ]
           ]
          },
          "colorway": [
           "#636efa",
           "#EF553B",
           "#00cc96",
           "#ab63fa",
           "#FFA15A",
           "#19d3f3",
           "#FF6692",
           "#B6E880",
           "#FF97FF",
           "#FECB52"
          ],
          "font": {
           "color": "#2a3f5f"
          },
          "geo": {
           "bgcolor": "white",
           "lakecolor": "white",
           "landcolor": "#E5ECF6",
           "showlakes": true,
           "showland": true,
           "subunitcolor": "white"
          },
          "hoverlabel": {
           "align": "left"
          },
          "hovermode": "closest",
          "mapbox": {
           "style": "light"
          },
          "paper_bgcolor": "white",
          "plot_bgcolor": "#E5ECF6",
          "polar": {
           "angularaxis": {
            "gridcolor": "white",
            "linecolor": "white",
            "ticks": ""
           },
           "bgcolor": "#E5ECF6",
           "radialaxis": {
            "gridcolor": "white",
            "linecolor": "white",
            "ticks": ""
           }
          },
          "scene": {
           "xaxis": {
            "backgroundcolor": "#E5ECF6",
            "gridcolor": "white",
            "gridwidth": 2,
            "linecolor": "white",
            "showbackground": true,
            "ticks": "",
            "zerolinecolor": "white"
           },
           "yaxis": {
            "backgroundcolor": "#E5ECF6",
            "gridcolor": "white",
            "gridwidth": 2,
            "linecolor": "white",
            "showbackground": true,
            "ticks": "",
            "zerolinecolor": "white"
           },
           "zaxis": {
            "backgroundcolor": "#E5ECF6",
            "gridcolor": "white",
            "gridwidth": 2,
            "linecolor": "white",
            "showbackground": true,
            "ticks": "",
            "zerolinecolor": "white"
           }
          },
          "shapedefaults": {
           "line": {
            "color": "#2a3f5f"
           }
          },
          "ternary": {
           "aaxis": {
            "gridcolor": "white",
            "linecolor": "white",
            "ticks": ""
           },
           "baxis": {
            "gridcolor": "white",
            "linecolor": "white",
            "ticks": ""
           },
           "bgcolor": "#E5ECF6",
           "caxis": {
            "gridcolor": "white",
            "linecolor": "white",
            "ticks": ""
           }
          },
          "title": {
           "x": 0.05
          },
          "xaxis": {
           "automargin": true,
           "gridcolor": "white",
           "linecolor": "white",
           "ticks": "",
           "title": {
            "standoff": 15
           },
           "zerolinecolor": "white",
           "zerolinewidth": 2
          },
          "yaxis": {
           "automargin": true,
           "gridcolor": "white",
           "linecolor": "white",
           "ticks": "",
           "title": {
            "standoff": 15
           },
           "zerolinecolor": "white",
           "zerolinewidth": 2
          }
         }
        },
        "violinmode": "group",
        "xaxis": {
         "anchor": "y",
         "domain": [
          0,
          1
         ],
         "title": {
          "text": "variable"
         }
        },
        "yaxis": {
         "anchor": "x",
         "domain": [
          0,
          1
         ],
         "range": [
          -2.5,
          2.5
         ],
         "title": {
          "text": "value"
         }
        }
       }
      }
     },
     "metadata": {},
     "output_type": "display_data"
    }
   ],
   "source": [
    "fig = px.violin(data_frame=df[df[\"Year\"] == 2015], y=[\"Migrants%\"], color= (df[df[\"Year\"] == 2015]['Country'].isin(declinelist).astype('bool')), labels= {\"color\": \"Pop Decline\"}, range_y= [-2.5,2.5] )\n",
    "fig.show()"
   ]
  },
  {
   "attachments": {},
   "cell_type": "markdown",
   "metadata": {},
   "source": [
    "In combination with the previous graph, this could provide a more complete picture of the factors at play here. The median country in decline had net emigration, and the third quartile took only half the number of immigrants that the non-decline group did, by percentage of population.\n",
    "\n",
    "## Modeling\n",
    "\n",
    "Lets run a regression on the panel data we have, examining whether the above analysis is correct."
   ]
  },
  {
   "cell_type": "code",
   "execution_count": 457,
   "metadata": {},
   "outputs": [],
   "source": [
    "df['Year'] = pd.to_datetime(df[\"Year\"], format = '%Y')\n",
    "df = df.set_index(['Country', 'Year'])\n",
    "df = df[df[\"FertilityRate\"] != 0]"
   ]
  },
  {
   "cell_type": "code",
   "execution_count": null,
   "metadata": {},
   "outputs": [],
   "source": [
    "exog_vars = [\"UrbanPop%\", \"Migrants%\"]\n",
    "exog = sm.add_constant(df[exog_vars])\n",
    "mod = PanelOLS(dependent= df[\"FertilityRate\"], exog = exog, entity_effects= True, time_effects = True, drop_absorbed= True).fit()\n",
    "print(mod)"
   ]
  },
  {
   "attachments": {},
   "cell_type": "markdown",
   "metadata": {},
   "source": [
    "```\n",
    "                          PanelOLS Estimation Summary                           \n",
    "================================================================================\n",
    "Dep. Variable:          FertilityRate   R-squared:                        0.0390\n",
    "Estimator:                   PanelOLS   R-squared (Between):              0.2849\n",
    "No. Observations:                3580   R-squared (Within):               0.2302\n",
    "Date:                Thu, Feb 09 2023   R-squared (Overall):              0.2630\n",
    "Time:                        14:30:25   Log-likelihood                   -3757.8\n",
    "Cov. Estimator:            Unadjusted                                           \n",
    "                                        F-statistic:                      68.254\n",
    "Entities:                         201   P-value                           0.0000\n",
    "Avg Obs:                       17.811   Distribution:                  F(2,3360)\n",
    "Min Obs:                      10.0000                                           \n",
    "Max Obs:                       18.000   F-statistic (robust):             68.254\n",
    "                                        P-value                           0.0000\n",
    "Time periods:                      18   Distribution:                  F(2,3360)\n",
    "Avg Obs:                       198.89                                           \n",
    "Min Obs:                       196.00                                           \n",
    "Max Obs:                       201.00                                           \n",
    "                                                                                \n",
    "                             Parameter Estimates                              \n",
    "==============================================================================\n",
    "            Parameter  Std. Err.     T-stat    P-value    Lower CI    Upper CI\n",
    "------------------------------------------------------------------------------\n",
    "const          4.9646     0.0940     52.827     0.0000      4.7804      5.1489\n",
    "UrbanPop%     -0.0207     0.0018    -11.328     0.0000     -0.0243     -0.0172\n",
    "Migrants%      0.0426     0.0171     2.4859     0.0130      0.0090      0.0762\n",
    "==============================================================================\n",
    "\n",
    "F-test for Poolability: 58.878\n",
    "P-value: 0.0000\n",
    "Distribution: F(217,3360)\n",
    "\n",
    "Included effects: Entity, Time\n",
    "```"
   ]
  },
  {
   "attachments": {},
   "cell_type": "markdown",
   "metadata": {},
   "source": [
    "Utilizing both entity and time effect controls, we have a result which seems to, at the surface, agree with the previous analysis. Urbanization is negatively correlated with fertility rate at a < 0.001 signficance level, and migration as a percentage of the population is correlated positively at a < 0.05 significance level.\n",
    "\n",
    "Lets take a look at a few examples and see if these assumptions hold up."
   ]
  },
  {
   "cell_type": "code",
   "execution_count": 474,
   "metadata": {},
   "outputs": [
    {
     "name": "stdout",
     "output_type": "stream",
     "text": [
      "                          Yearly%Change  UrbanPop%  Migrants%  FertilityRate\n",
      "Country       Year                                                          \n",
      "Japan         2020-01-01          -0.30       91.8   0.056580           1.37\n",
      "Greece        2020-01-01          -0.48       84.9  -0.153506           1.30\n",
      "United States 2020-01-01           0.59       82.8   0.288459           1.78\n",
      "Canada        2020-01-01           0.89       81.3   0.641278           1.53\n"
     ]
    }
   ],
   "source": [
    "Countries, years, variables= ['Japan', 'Greece', 'United States', 'Canada'], ['2020'] * 4, [\"Yearly%Change\", \"UrbanPop%\", \"Migrants%\", \"FertilityRate\"]\n",
    "lookup = zip(Countries, years)\n",
    "print(df.loc[lookup][variables])"
   ]
  },
  {
   "attachments": {},
   "cell_type": "markdown",
   "metadata": {},
   "source": [
    "This simplistic look seems to confirm the model; urabanization leads to low fertility, but can be counteracted through immigration."
   ]
  },
  {
   "cell_type": "code",
   "execution_count": 484,
   "metadata": {},
   "outputs": [
    {
     "data": {
      "application/vnd.plotly.v1+json": {
       "config": {
        "plotlyServerURL": "https://plot.ly"
       },
       "data": [
        {
         "hovertemplate": "variable=Yearly%Change<br>x=%{x}<br>value=%{y}<extra></extra>",
         "legendgroup": "Yearly%Change",
         "line": {
          "color": "#636efa",
          "dash": "solid"
         },
         "marker": {
          "symbol": "circle"
         },
         "mode": "lines",
         "name": "Yearly%Change",
         "orientation": "v",
         "showlegend": true,
         "type": "scatter",
         "x": [
          "1955-01-01T00:00:00",
          "1960-01-01T00:00:00",
          "1965-01-01T00:00:00",
          "1970-01-01T00:00:00",
          "1975-01-01T00:00:00",
          "1980-01-01T00:00:00",
          "1985-01-01T00:00:00",
          "1990-01-01T00:00:00",
          "1995-01-01T00:00:00",
          "2000-01-01T00:00:00",
          "2005-01-01T00:00:00",
          "2010-01-01T00:00:00",
          "2015-01-01T00:00:00",
          "2016-01-01T00:00:00",
          "2017-01-01T00:00:00",
          "2018-01-01T00:00:00",
          "2019-01-01T00:00:00",
          "2020-01-01T00:00:00"
         ],
         "xaxis": "x",
         "y": [
          2,
          1.53,
          1.86,
          2.7,
          2.28,
          1.55,
          1.47,
          1.82,
          1.07,
          0.79,
          0.62,
          0.57,
          0.55,
          0.51,
          0.49,
          0.47,
          0.43,
          0.39
         ],
         "yaxis": "y"
        },
        {
         "hovertemplate": "variable=UrbanPop%<br>x=%{x}<br>value=%{y}<extra></extra>",
         "legendgroup": "UrbanPop%",
         "line": {
          "color": "#EF553B",
          "dash": "solid"
         },
         "marker": {
          "symbol": "circle"
         },
         "mode": "lines",
         "name": "UrbanPop%",
         "orientation": "v",
         "showlegend": true,
         "type": "scatter",
         "x": [
          "1955-01-01T00:00:00",
          "1960-01-01T00:00:00",
          "1965-01-01T00:00:00",
          "1970-01-01T00:00:00",
          "1975-01-01T00:00:00",
          "1980-01-01T00:00:00",
          "1985-01-01T00:00:00",
          "1990-01-01T00:00:00",
          "1995-01-01T00:00:00",
          "2000-01-01T00:00:00",
          "2005-01-01T00:00:00",
          "2010-01-01T00:00:00",
          "2015-01-01T00:00:00",
          "2016-01-01T00:00:00",
          "2017-01-01T00:00:00",
          "2018-01-01T00:00:00",
          "2019-01-01T00:00:00",
          "2020-01-01T00:00:00"
         ],
         "xaxis": "x",
         "y": [
          13.8,
          16.1,
          18,
          17.3,
          17.3,
          19.2,
          22.8,
          26.3,
          30.9,
          35.7,
          42.2,
          48.9,
          55.1,
          56.3,
          57.5,
          58.6,
          59.7,
          60.8
         ],
         "yaxis": "y"
        },
        {
         "hovertemplate": "variable=Migrants%<br>x=%{x}<br>value=%{y}<extra></extra>",
         "legendgroup": "Migrants%",
         "line": {
          "color": "#00cc96",
          "dash": "solid"
         },
         "marker": {
          "symbol": "circle"
         },
         "mode": "lines",
         "name": "Migrants%",
         "orientation": "v",
         "showlegend": true,
         "type": "scatter",
         "x": [
          "1955-01-01T00:00:00",
          "1960-01-01T00:00:00",
          "1965-01-01T00:00:00",
          "1970-01-01T00:00:00",
          "1975-01-01T00:00:00",
          "1980-01-01T00:00:00",
          "1985-01-01T00:00:00",
          "1990-01-01T00:00:00",
          "1995-01-01T00:00:00",
          "2000-01-01T00:00:00",
          "2005-01-01T00:00:00",
          "2010-01-01T00:00:00",
          "2015-01-01T00:00:00",
          "2016-01-01T00:00:00",
          "2017-01-01T00:00:00",
          "2018-01-01T00:00:00",
          "2019-01-01T00:00:00",
          "2020-01-01T00:00:00"
         ],
         "xaxis": "x",
         "y": [
          -0.008363529013256099,
          -0.0018019162382840466,
          -0.03108797338210562,
          -0.003866595710446568,
          -0.02387024839656047,
          -0.0009400161176617405,
          -0.0037188913771712176,
          -0.007335474346974414,
          -0.01257099029310527,
          -0.005935450357894291,
          -0.02954034997224703,
          -0.03182887356553704,
          -0.02206649394152333,
          -0.02463839043196166,
          -0.02451749876086172,
          -0.024403708212664157,
          -0.02429927215673453,
          -0.024205742016450926
         ],
         "yaxis": "y"
        },
        {
         "hovertemplate": "variable=FertilityRate<br>x=%{x}<br>value=%{y}<extra></extra>",
         "legendgroup": "FertilityRate",
         "line": {
          "color": "#ab63fa",
          "dash": "solid"
         },
         "marker": {
          "symbol": "circle"
         },
         "mode": "lines",
         "name": "FertilityRate",
         "orientation": "v",
         "showlegend": true,
         "type": "scatter",
         "x": [
          "1955-01-01T00:00:00",
          "1960-01-01T00:00:00",
          "1965-01-01T00:00:00",
          "1970-01-01T00:00:00",
          "1975-01-01T00:00:00",
          "1980-01-01T00:00:00",
          "1985-01-01T00:00:00",
          "1990-01-01T00:00:00",
          "1995-01-01T00:00:00",
          "2000-01-01T00:00:00",
          "2005-01-01T00:00:00",
          "2010-01-01T00:00:00",
          "2015-01-01T00:00:00",
          "2016-01-01T00:00:00",
          "2017-01-01T00:00:00",
          "2018-01-01T00:00:00",
          "2019-01-01T00:00:00",
          "2020-01-01T00:00:00"
         ],
         "xaxis": "x",
         "y": [
          6.11,
          5.48,
          6.15,
          6.3,
          4.85,
          3.01,
          2.52,
          2.73,
          1.83,
          1.62,
          1.61,
          1.62,
          1.64,
          1.65,
          1.65,
          1.65,
          1.65,
          1.69
         ],
         "yaxis": "y"
        }
       ],
       "layout": {
        "legend": {
         "title": {
          "text": "variable"
         },
         "tracegroupgap": 0
        },
        "margin": {
         "t": 60
        },
        "template": {
         "data": {
          "bar": [
           {
            "error_x": {
             "color": "#2a3f5f"
            },
            "error_y": {
             "color": "#2a3f5f"
            },
            "marker": {
             "line": {
              "color": "#E5ECF6",
              "width": 0.5
             },
             "pattern": {
              "fillmode": "overlay",
              "size": 10,
              "solidity": 0.2
             }
            },
            "type": "bar"
           }
          ],
          "barpolar": [
           {
            "marker": {
             "line": {
              "color": "#E5ECF6",
              "width": 0.5
             },
             "pattern": {
              "fillmode": "overlay",
              "size": 10,
              "solidity": 0.2
             }
            },
            "type": "barpolar"
           }
          ],
          "carpet": [
           {
            "aaxis": {
             "endlinecolor": "#2a3f5f",
             "gridcolor": "white",
             "linecolor": "white",
             "minorgridcolor": "white",
             "startlinecolor": "#2a3f5f"
            },
            "baxis": {
             "endlinecolor": "#2a3f5f",
             "gridcolor": "white",
             "linecolor": "white",
             "minorgridcolor": "white",
             "startlinecolor": "#2a3f5f"
            },
            "type": "carpet"
           }
          ],
          "choropleth": [
           {
            "colorbar": {
             "outlinewidth": 0,
             "ticks": ""
            },
            "type": "choropleth"
           }
          ],
          "contour": [
           {
            "colorbar": {
             "outlinewidth": 0,
             "ticks": ""
            },
            "colorscale": [
             [
              0,
              "#0d0887"
             ],
             [
              0.1111111111111111,
              "#46039f"
             ],
             [
              0.2222222222222222,
              "#7201a8"
             ],
             [
              0.3333333333333333,
              "#9c179e"
             ],
             [
              0.4444444444444444,
              "#bd3786"
             ],
             [
              0.5555555555555556,
              "#d8576b"
             ],
             [
              0.6666666666666666,
              "#ed7953"
             ],
             [
              0.7777777777777778,
              "#fb9f3a"
             ],
             [
              0.8888888888888888,
              "#fdca26"
             ],
             [
              1,
              "#f0f921"
             ]
            ],
            "type": "contour"
           }
          ],
          "contourcarpet": [
           {
            "colorbar": {
             "outlinewidth": 0,
             "ticks": ""
            },
            "type": "contourcarpet"
           }
          ],
          "heatmap": [
           {
            "colorbar": {
             "outlinewidth": 0,
             "ticks": ""
            },
            "colorscale": [
             [
              0,
              "#0d0887"
             ],
             [
              0.1111111111111111,
              "#46039f"
             ],
             [
              0.2222222222222222,
              "#7201a8"
             ],
             [
              0.3333333333333333,
              "#9c179e"
             ],
             [
              0.4444444444444444,
              "#bd3786"
             ],
             [
              0.5555555555555556,
              "#d8576b"
             ],
             [
              0.6666666666666666,
              "#ed7953"
             ],
             [
              0.7777777777777778,
              "#fb9f3a"
             ],
             [
              0.8888888888888888,
              "#fdca26"
             ],
             [
              1,
              "#f0f921"
             ]
            ],
            "type": "heatmap"
           }
          ],
          "heatmapgl": [
           {
            "colorbar": {
             "outlinewidth": 0,
             "ticks": ""
            },
            "colorscale": [
             [
              0,
              "#0d0887"
             ],
             [
              0.1111111111111111,
              "#46039f"
             ],
             [
              0.2222222222222222,
              "#7201a8"
             ],
             [
              0.3333333333333333,
              "#9c179e"
             ],
             [
              0.4444444444444444,
              "#bd3786"
             ],
             [
              0.5555555555555556,
              "#d8576b"
             ],
             [
              0.6666666666666666,
              "#ed7953"
             ],
             [
              0.7777777777777778,
              "#fb9f3a"
             ],
             [
              0.8888888888888888,
              "#fdca26"
             ],
             [
              1,
              "#f0f921"
             ]
            ],
            "type": "heatmapgl"
           }
          ],
          "histogram": [
           {
            "marker": {
             "pattern": {
              "fillmode": "overlay",
              "size": 10,
              "solidity": 0.2
             }
            },
            "type": "histogram"
           }
          ],
          "histogram2d": [
           {
            "colorbar": {
             "outlinewidth": 0,
             "ticks": ""
            },
            "colorscale": [
             [
              0,
              "#0d0887"
             ],
             [
              0.1111111111111111,
              "#46039f"
             ],
             [
              0.2222222222222222,
              "#7201a8"
             ],
             [
              0.3333333333333333,
              "#9c179e"
             ],
             [
              0.4444444444444444,
              "#bd3786"
             ],
             [
              0.5555555555555556,
              "#d8576b"
             ],
             [
              0.6666666666666666,
              "#ed7953"
             ],
             [
              0.7777777777777778,
              "#fb9f3a"
             ],
             [
              0.8888888888888888,
              "#fdca26"
             ],
             [
              1,
              "#f0f921"
             ]
            ],
            "type": "histogram2d"
           }
          ],
          "histogram2dcontour": [
           {
            "colorbar": {
             "outlinewidth": 0,
             "ticks": ""
            },
            "colorscale": [
             [
              0,
              "#0d0887"
             ],
             [
              0.1111111111111111,
              "#46039f"
             ],
             [
              0.2222222222222222,
              "#7201a8"
             ],
             [
              0.3333333333333333,
              "#9c179e"
             ],
             [
              0.4444444444444444,
              "#bd3786"
             ],
             [
              0.5555555555555556,
              "#d8576b"
             ],
             [
              0.6666666666666666,
              "#ed7953"
             ],
             [
              0.7777777777777778,
              "#fb9f3a"
             ],
             [
              0.8888888888888888,
              "#fdca26"
             ],
             [
              1,
              "#f0f921"
             ]
            ],
            "type": "histogram2dcontour"
           }
          ],
          "mesh3d": [
           {
            "colorbar": {
             "outlinewidth": 0,
             "ticks": ""
            },
            "type": "mesh3d"
           }
          ],
          "parcoords": [
           {
            "line": {
             "colorbar": {
              "outlinewidth": 0,
              "ticks": ""
             }
            },
            "type": "parcoords"
           }
          ],
          "pie": [
           {
            "automargin": true,
            "type": "pie"
           }
          ],
          "scatter": [
           {
            "fillpattern": {
             "fillmode": "overlay",
             "size": 10,
             "solidity": 0.2
            },
            "type": "scatter"
           }
          ],
          "scatter3d": [
           {
            "line": {
             "colorbar": {
              "outlinewidth": 0,
              "ticks": ""
             }
            },
            "marker": {
             "colorbar": {
              "outlinewidth": 0,
              "ticks": ""
             }
            },
            "type": "scatter3d"
           }
          ],
          "scattercarpet": [
           {
            "marker": {
             "colorbar": {
              "outlinewidth": 0,
              "ticks": ""
             }
            },
            "type": "scattercarpet"
           }
          ],
          "scattergeo": [
           {
            "marker": {
             "colorbar": {
              "outlinewidth": 0,
              "ticks": ""
             }
            },
            "type": "scattergeo"
           }
          ],
          "scattergl": [
           {
            "marker": {
             "colorbar": {
              "outlinewidth": 0,
              "ticks": ""
             }
            },
            "type": "scattergl"
           }
          ],
          "scattermapbox": [
           {
            "marker": {
             "colorbar": {
              "outlinewidth": 0,
              "ticks": ""
             }
            },
            "type": "scattermapbox"
           }
          ],
          "scatterpolar": [
           {
            "marker": {
             "colorbar": {
              "outlinewidth": 0,
              "ticks": ""
             }
            },
            "type": "scatterpolar"
           }
          ],
          "scatterpolargl": [
           {
            "marker": {
             "colorbar": {
              "outlinewidth": 0,
              "ticks": ""
             }
            },
            "type": "scatterpolargl"
           }
          ],
          "scatterternary": [
           {
            "marker": {
             "colorbar": {
              "outlinewidth": 0,
              "ticks": ""
             }
            },
            "type": "scatterternary"
           }
          ],
          "surface": [
           {
            "colorbar": {
             "outlinewidth": 0,
             "ticks": ""
            },
            "colorscale": [
             [
              0,
              "#0d0887"
             ],
             [
              0.1111111111111111,
              "#46039f"
             ],
             [
              0.2222222222222222,
              "#7201a8"
             ],
             [
              0.3333333333333333,
              "#9c179e"
             ],
             [
              0.4444444444444444,
              "#bd3786"
             ],
             [
              0.5555555555555556,
              "#d8576b"
             ],
             [
              0.6666666666666666,
              "#ed7953"
             ],
             [
              0.7777777777777778,
              "#fb9f3a"
             ],
             [
              0.8888888888888888,
              "#fdca26"
             ],
             [
              1,
              "#f0f921"
             ]
            ],
            "type": "surface"
           }
          ],
          "table": [
           {
            "cells": {
             "fill": {
              "color": "#EBF0F8"
             },
             "line": {
              "color": "white"
             }
            },
            "header": {
             "fill": {
              "color": "#C8D4E3"
             },
             "line": {
              "color": "white"
             }
            },
            "type": "table"
           }
          ]
         },
         "layout": {
          "annotationdefaults": {
           "arrowcolor": "#2a3f5f",
           "arrowhead": 0,
           "arrowwidth": 1
          },
          "autotypenumbers": "strict",
          "coloraxis": {
           "colorbar": {
            "outlinewidth": 0,
            "ticks": ""
           }
          },
          "colorscale": {
           "diverging": [
            [
             0,
             "#8e0152"
            ],
            [
             0.1,
             "#c51b7d"
            ],
            [
             0.2,
             "#de77ae"
            ],
            [
             0.3,
             "#f1b6da"
            ],
            [
             0.4,
             "#fde0ef"
            ],
            [
             0.5,
             "#f7f7f7"
            ],
            [
             0.6,
             "#e6f5d0"
            ],
            [
             0.7,
             "#b8e186"
            ],
            [
             0.8,
             "#7fbc41"
            ],
            [
             0.9,
             "#4d9221"
            ],
            [
             1,
             "#276419"
            ]
           ],
           "sequential": [
            [
             0,
             "#0d0887"
            ],
            [
             0.1111111111111111,
             "#46039f"
            ],
            [
             0.2222222222222222,
             "#7201a8"
            ],
            [
             0.3333333333333333,
             "#9c179e"
            ],
            [
             0.4444444444444444,
             "#bd3786"
            ],
            [
             0.5555555555555556,
             "#d8576b"
            ],
            [
             0.6666666666666666,
             "#ed7953"
            ],
            [
             0.7777777777777778,
             "#fb9f3a"
            ],
            [
             0.8888888888888888,
             "#fdca26"
            ],
            [
             1,
             "#f0f921"
            ]
           ],
           "sequentialminus": [
            [
             0,
             "#0d0887"
            ],
            [
             0.1111111111111111,
             "#46039f"
            ],
            [
             0.2222222222222222,
             "#7201a8"
            ],
            [
             0.3333333333333333,
             "#9c179e"
            ],
            [
             0.4444444444444444,
             "#bd3786"
            ],
            [
             0.5555555555555556,
             "#d8576b"
            ],
            [
             0.6666666666666666,
             "#ed7953"
            ],
            [
             0.7777777777777778,
             "#fb9f3a"
            ],
            [
             0.8888888888888888,
             "#fdca26"
            ],
            [
             1,
             "#f0f921"
            ]
           ]
          },
          "colorway": [
           "#636efa",
           "#EF553B",
           "#00cc96",
           "#ab63fa",
           "#FFA15A",
           "#19d3f3",
           "#FF6692",
           "#B6E880",
           "#FF97FF",
           "#FECB52"
          ],
          "font": {
           "color": "#2a3f5f"
          },
          "geo": {
           "bgcolor": "white",
           "lakecolor": "white",
           "landcolor": "#E5ECF6",
           "showlakes": true,
           "showland": true,
           "subunitcolor": "white"
          },
          "hoverlabel": {
           "align": "left"
          },
          "hovermode": "closest",
          "mapbox": {
           "style": "light"
          },
          "paper_bgcolor": "white",
          "plot_bgcolor": "#E5ECF6",
          "polar": {
           "angularaxis": {
            "gridcolor": "white",
            "linecolor": "white",
            "ticks": ""
           },
           "bgcolor": "#E5ECF6",
           "radialaxis": {
            "gridcolor": "white",
            "linecolor": "white",
            "ticks": ""
           }
          },
          "scene": {
           "xaxis": {
            "backgroundcolor": "#E5ECF6",
            "gridcolor": "white",
            "gridwidth": 2,
            "linecolor": "white",
            "showbackground": true,
            "ticks": "",
            "zerolinecolor": "white"
           },
           "yaxis": {
            "backgroundcolor": "#E5ECF6",
            "gridcolor": "white",
            "gridwidth": 2,
            "linecolor": "white",
            "showbackground": true,
            "ticks": "",
            "zerolinecolor": "white"
           },
           "zaxis": {
            "backgroundcolor": "#E5ECF6",
            "gridcolor": "white",
            "gridwidth": 2,
            "linecolor": "white",
            "showbackground": true,
            "ticks": "",
            "zerolinecolor": "white"
           }
          },
          "shapedefaults": {
           "line": {
            "color": "#2a3f5f"
           }
          },
          "ternary": {
           "aaxis": {
            "gridcolor": "white",
            "linecolor": "white",
            "ticks": ""
           },
           "baxis": {
            "gridcolor": "white",
            "linecolor": "white",
            "ticks": ""
           },
           "bgcolor": "#E5ECF6",
           "caxis": {
            "gridcolor": "white",
            "linecolor": "white",
            "ticks": ""
           }
          },
          "title": {
           "x": 0.05
          },
          "xaxis": {
           "automargin": true,
           "gridcolor": "white",
           "linecolor": "white",
           "ticks": "",
           "title": {
            "standoff": 15
           },
           "zerolinecolor": "white",
           "zerolinewidth": 2
          },
          "yaxis": {
           "automargin": true,
           "gridcolor": "white",
           "linecolor": "white",
           "ticks": "",
           "title": {
            "standoff": 15
           },
           "zerolinecolor": "white",
           "zerolinewidth": 2
          }
         }
        },
        "xaxis": {
         "anchor": "y",
         "domain": [
          0,
          1
         ],
         "title": {
          "text": "x"
         }
        },
        "yaxis": {
         "anchor": "x",
         "domain": [
          0,
          1
         ],
         "title": {
          "text": "value"
         },
         "type": "log"
        }
       }
      }
     },
     "metadata": {},
     "output_type": "display_data"
    }
   ],
   "source": [
    "fig = px.line(data_frame= df.loc[\"China\"], x = df.loc['China'].index.get_level_values(0), y = variables, log_y = True)\n",
    "fig.show()"
   ]
  },
  {
   "attachments": {},
   "cell_type": "markdown",
   "metadata": {},
   "source": [
    "We can clearly see China heading for a similar situation as Japan here; exponentially increasing urbanization, negative migration, and dropping fertility rates. Given the trends seen here, it should come as no surprise that two years after out data ends China experienced its first population decline."
   ]
  },
  {
   "attachments": {},
   "cell_type": "markdown",
   "metadata": {},
   "source": [
    "## Limitations\n",
    "\n",
    "The simplistic ideas here will suffer from some omitted variable bias; no measure of wealth was used in the regression, so urbanization is likely acting as a proxy measure of overall levels of wealth. Additionally, the fixed effects during the regression wouldn't be able to capture shifting cultural trends during this timeframe, namely the increasing amounts of irreligious people in many of the countries studied. If further research were to be done into this topic, it should likely include several other factors."
   ]
  },
  {
   "attachments": {},
   "cell_type": "markdown",
   "metadata": {},
   "source": [
    "## Conclusion\n",
    "\n",
    "While prediction future trends is difficult, even with currently available data a paradaigm shift in global population dynamics is evident.  Europe and Japan are 'leading the pack' when it comes to declining population, but several other continents are currently where Europe was last century, and poised to follow in their footsteps perhaps even quicker than the Europeans themselves.\n",
    "\n",
    "We will likely soon see places which have urbanized rapidly in the past few decades soon begin to experience the same symptoms felt by Europe today, perhaps to an even greater degree. For nations looking to counteract this decline, North America lends a solution: immigration seems to be an effective counter to natural population decline. Whether the low and middle-income soon coming head to head with demographic issues will be able to utilize this as effectively as the US and Canada remain to be seen.\n",
    "\n",
    "Thank you for reading!"
   ]
  }
 ],
 "metadata": {
  "kernelspec": {
   "display_name": "base",
   "language": "python",
   "name": "python3"
  },
  "language_info": {
   "codemirror_mode": {
    "name": "ipython",
    "version": 3
   },
   "file_extension": ".py",
   "mimetype": "text/x-python",
   "name": "python",
   "nbconvert_exporter": "python",
   "pygments_lexer": "ipython3",
   "version": "3.9.13"
  },
  "orig_nbformat": 4,
  "vscode": {
   "interpreter": {
    "hash": "ad2bdc8ecc057115af97d19610ffacc2b4e99fae6737bb82f5d7fb13d2f2c186"
   }
  }
 },
 "nbformat": 4,
 "nbformat_minor": 2
}
